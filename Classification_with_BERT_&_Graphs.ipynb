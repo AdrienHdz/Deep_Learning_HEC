{
  "nbformat": 4,
  "nbformat_minor": 0,
  "metadata": {
    "colab": {
      "name": "Classification_with_BERT_&_Graphs.ipynb",
      "provenance": [],
      "collapsed_sections": [],
      "machine_shape": "hm",
      "authorship_tag": "ABX9TyOUKDfp3gduAj6qx2yhHL/H",
      "include_colab_link": true
    },
    "kernelspec": {
      "name": "python3",
      "display_name": "Python 3"
    },
    "accelerator": "GPU"
  },
  "cells": [
    {
      "cell_type": "markdown",
      "metadata": {
        "id": "view-in-github",
        "colab_type": "text"
      },
      "source": [
        "<a href=\"https://colab.research.google.com/github/AdrienHdz/Deep_Learning_HEC/blob/master/Classification_with_BERT_%26_Graphs.ipynb\" target=\"_parent\"><img src=\"https://colab.research.google.com/assets/colab-badge.svg\" alt=\"Open In Colab\"/></a>"
      ]
    },
    {
      "cell_type": "markdown",
      "metadata": {
        "id": "MaHbPsJ3dBlo",
        "colab_type": "text"
      },
      "source": [
        "# Introduction:\n",
        "In this homework I used several deep learning models in order to perform classification with 5 labels of scientific research papers. \n",
        "* Firstly, I will show my Bert for sequence classification model with Pytorch and the huggingface library. \n",
        "* Then, I will go through different graph deep learning models with the package Stellargraph."
      ]
    },
    {
      "cell_type": "markdown",
      "metadata": {
        "id": "SnrgCaL99k2u",
        "colab_type": "text"
      },
      "source": [
        "# We load the **librairies**"
      ]
    },
    {
      "cell_type": "code",
      "metadata": {
        "id": "vVwUojUzh4Is",
        "colab_type": "code",
        "colab": {
          "base_uri": "https://localhost:8080/",
          "height": 426
        },
        "outputId": "d79c11ef-9168-44d5-cbfc-34c8fc26c579"
      },
      "source": [
        "!pip install transformers\n",
        "import pandas as pd\n",
        "import numpy as np\n",
        "import random\n",
        "\n",
        "import pandas as pd\n",
        "import numpy as np\n",
        "import os\n",
        "import random\n",
        "import networkx as nx\n",
        "\n",
        "from tensorflow import keras\n",
        "\n",
        "from sklearn.linear_model import LogisticRegression\n",
        "from sklearn.metrics import roc_auc_score"
      ],
      "execution_count": null,
      "outputs": [
        {
          "output_type": "stream",
          "text": [
            "Requirement already satisfied: transformers in /usr/local/lib/python3.6/dist-packages (2.8.0)\n",
            "Requirement already satisfied: filelock in /usr/local/lib/python3.6/dist-packages (from transformers) (3.0.12)\n",
            "Requirement already satisfied: tqdm>=4.27 in /usr/local/lib/python3.6/dist-packages (from transformers) (4.38.0)\n",
            "Requirement already satisfied: sentencepiece in /usr/local/lib/python3.6/dist-packages (from transformers) (0.1.85)\n",
            "Requirement already satisfied: regex!=2019.12.17 in /usr/local/lib/python3.6/dist-packages (from transformers) (2019.12.20)\n",
            "Requirement already satisfied: boto3 in /usr/local/lib/python3.6/dist-packages (from transformers) (1.12.38)\n",
            "Requirement already satisfied: numpy in /usr/local/lib/python3.6/dist-packages (from transformers) (1.18.2)\n",
            "Requirement already satisfied: sacremoses in /usr/local/lib/python3.6/dist-packages (from transformers) (0.0.41)\n",
            "Requirement already satisfied: requests in /usr/local/lib/python3.6/dist-packages (from transformers) (2.21.0)\n",
            "Requirement already satisfied: tokenizers==0.5.2 in /usr/local/lib/python3.6/dist-packages (from transformers) (0.5.2)\n",
            "Requirement already satisfied: dataclasses; python_version < \"3.7\" in /usr/local/lib/python3.6/dist-packages (from transformers) (0.7)\n",
            "Requirement already satisfied: botocore<1.16.0,>=1.15.38 in /usr/local/lib/python3.6/dist-packages (from boto3->transformers) (1.15.38)\n",
            "Requirement already satisfied: jmespath<1.0.0,>=0.7.1 in /usr/local/lib/python3.6/dist-packages (from boto3->transformers) (0.9.5)\n",
            "Requirement already satisfied: s3transfer<0.4.0,>=0.3.0 in /usr/local/lib/python3.6/dist-packages (from boto3->transformers) (0.3.3)\n",
            "Requirement already satisfied: joblib in /usr/local/lib/python3.6/dist-packages (from sacremoses->transformers) (0.14.1)\n",
            "Requirement already satisfied: click in /usr/local/lib/python3.6/dist-packages (from sacremoses->transformers) (7.1.1)\n",
            "Requirement already satisfied: six in /usr/local/lib/python3.6/dist-packages (from sacremoses->transformers) (1.12.0)\n",
            "Requirement already satisfied: chardet<3.1.0,>=3.0.2 in /usr/local/lib/python3.6/dist-packages (from requests->transformers) (3.0.4)\n",
            "Requirement already satisfied: certifi>=2017.4.17 in /usr/local/lib/python3.6/dist-packages (from requests->transformers) (2020.4.5.1)\n",
            "Requirement already satisfied: urllib3<1.25,>=1.21.1 in /usr/local/lib/python3.6/dist-packages (from requests->transformers) (1.24.3)\n",
            "Requirement already satisfied: idna<2.9,>=2.5 in /usr/local/lib/python3.6/dist-packages (from requests->transformers) (2.8)\n",
            "Requirement already satisfied: python-dateutil<3.0.0,>=2.1 in /usr/local/lib/python3.6/dist-packages (from botocore<1.16.0,>=1.15.38->boto3->transformers) (2.8.1)\n",
            "Requirement already satisfied: docutils<0.16,>=0.10 in /usr/local/lib/python3.6/dist-packages (from botocore<1.16.0,>=1.15.38->boto3->transformers) (0.15.2)\n"
          ],
          "name": "stdout"
        }
      ]
    },
    {
      "cell_type": "code",
      "metadata": {
        "id": "QbBKU87ch69Y",
        "colab_type": "code",
        "colab": {
          "base_uri": "https://localhost:8080/",
          "height": 35
        },
        "outputId": "f167b496-fc27-493d-81cd-91f5a3820353"
      },
      "source": [
        "import torch\n",
        "\n",
        "# We tell pytorch we want to use Google Colab's GPU\n",
        "if torch.cuda.is_available():    \n",
        "    device = torch.device(\"cuda\")\n",
        "    print('We will use the GPU:', torch.cuda.get_device_name(0))\n",
        "else:\n",
        "    print('No GPU available, using the CPU instead.')\n",
        "    device = torch.device(\"cpu\")"
      ],
      "execution_count": null,
      "outputs": [
        {
          "output_type": "stream",
          "text": [
            "We will use the GPU: Tesla P100-PCIE-16GB\n"
          ],
          "name": "stdout"
        }
      ]
    },
    {
      "cell_type": "markdown",
      "metadata": {
        "id": "bCov_6Jyi6vH",
        "colab_type": "text"
      },
      "source": [
        "# We load the data from google drive"
      ]
    },
    {
      "cell_type": "code",
      "metadata": {
        "id": "nCFAVMpw_Otd",
        "colab_type": "code",
        "colab": {
          "base_uri": "https://localhost:8080/",
          "height": 35
        },
        "outputId": "0ae78c2d-ff61-4657-b45e-3d4e91a1be35"
      },
      "source": [
        "from google.colab import drive\n",
        "drive.mount('/content/drive')\n",
        "import os\n",
        "data_dic = {};\n",
        "for dirname, _, filenames in os.walk('/content/drive/My Drive/Colab Notebooks'):\n",
        "    for filename in filenames:\n",
        "        if \".csv\" in filename:\n",
        "          data_dic[filename.split('.')[0]] = pd.read_csv(os.path.join(dirname, filename),index_col=\"id\");"
      ],
      "execution_count": null,
      "outputs": [
        {
          "output_type": "stream",
          "text": [
            "Drive already mounted at /content/drive; to attempt to forcibly remount, call drive.mount(\"/content/drive\", force_remount=True).\n"
          ],
          "name": "stdout"
        }
      ]
    },
    {
      "cell_type": "code",
      "metadata": {
        "id": "hkCwUbqdjvNr",
        "colab_type": "code",
        "colab": {
          "base_uri": "https://localhost:8080/",
          "height": 1000
        },
        "outputId": "be571f2b-9190-40ea-b8e2-3907430a3bf9"
      },
      "source": [
        "data_dic"
      ],
      "execution_count": null,
      "outputs": [
        {
          "output_type": "execute_result",
          "data": {
            "text/plain": [
              "{'reference':         id.1\n",
              " id          \n",
              " 0      22305\n",
              " 0      22491\n",
              " 1       9243\n",
              " 1      10943\n",
              " 1      14322\n",
              " ...      ...\n",
              " 25557  22946\n",
              " 25558   8691\n",
              " 25558  21420\n",
              " 25560   3168\n",
              " 25560   6353\n",
              " \n",
              " [73313 rows x 1 columns], 'sample':        label\n",
              " id          \n",
              " 1          2\n",
              " 2          0\n",
              " 4          3\n",
              " 5          3\n",
              " 7          4\n",
              " ...      ...\n",
              " 25553      4\n",
              " 25556      1\n",
              " 25558      4\n",
              " 25559      3\n",
              " 25560      2\n",
              " \n",
              " [12782 rows x 1 columns], 'test': Empty DataFrame\n",
              " Columns: []\n",
              " Index: [1, 2, 4, 5, 7, 10, 12, 14, 15, 16, 17, 19, 21, 22, 23, 25, 26, 27, 28, 29, 34, 35, 37, 39, 42, 45, 47, 49, 50, 51, 52, 57, 60, 61, 63, 64, 65, 66, 67, 70, 72, 73, 74, 76, 80, 83, 84, 85, 88, 89, 96, 100, 102, 104, 105, 109, 111, 117, 118, 121, 124, 125, 126, 127, 128, 129, 130, 131, 135, 136, 138, 139, 143, 148, 149, 150, 151, 154, 157, 158, 160, 161, 163, 164, 165, 166, 168, 171, 175, 176, 179, 181, 182, 183, 184, 186, 187, 191, 192, 193, ...]\n",
              " \n",
              " [12782 rows x 0 columns], 'text':                                                    title\n",
              " id                                                      \n",
              " 0      interactive visual exploration of neighbor bas...\n",
              " 1      autodomainmine a graphical data mining system ...\n",
              " 2      anipqo almost non intrusive parametric query o...\n",
              " 3      relational division four algorithms and their ...\n",
              " 4      selection and ranking of text from highly impe...\n",
              " ...                                                  ...\n",
              " 25556      dynamic typing in a statically typed language\n",
              " 25557  maintaining materialized views in distributed ...\n",
              " 25558     learning sparse metrics via linear programming\n",
              " 25559             computer assisted reasoning with mizar\n",
              " 25560  characterization of a large web site populatio...\n",
              " \n",
              " [25561 rows x 1 columns], 'train':        label\n",
              " id          \n",
              " 0          1\n",
              " 3          1\n",
              " 6          1\n",
              " 8          0\n",
              " 9          0\n",
              " ...      ...\n",
              " 25547      4\n",
              " 25548      3\n",
              " 25554      2\n",
              " 25555      2\n",
              " 25557      1\n",
              " \n",
              " [12779 rows x 1 columns]}"
            ]
          },
          "metadata": {
            "tags": []
          },
          "execution_count": 4
        }
      ]
    },
    {
      "cell_type": "markdown",
      "metadata": {
        "id": "7S3yzD17pgps",
        "colab_type": "text"
      },
      "source": [
        "# BERT for Sequence Classification\n",
        "My code has been adapted from Chris McCormick and Nick Ryan BERT Fine-Tuning tutorial:\n",
        "https://colab.research.google.com/drive/1Y4o3jh3ZH70tl6mCd76vz_IxX23biCPP"
      ]
    },
    {
      "cell_type": "code",
      "metadata": {
        "id": "mpAKUuZAh7nJ",
        "colab_type": "code",
        "colab": {
          "base_uri": "https://localhost:8080/",
          "height": 266
        },
        "outputId": "979871de-64f1-4544-8c7c-e1e373daccf5"
      },
      "source": [
        "# We merge the data from train and text into a new DataFrame called df with 3 columns: id, label and title.\n",
        "train = pd.DataFrame(data_dic[\"train\"])\n",
        "text = pd.DataFrame(data_dic[\"text\"])\n",
        "df = pd.merge(train, text, on=[\"id\"])\n",
        "\n",
        "print('Number of observations: {:,}\\n'.format(df.shape[0]))\n",
        "\n",
        "df.head(5)"
      ],
      "execution_count": null,
      "outputs": [
        {
          "output_type": "stream",
          "text": [
            "Number of observations: 12,779\n",
            "\n"
          ],
          "name": "stdout"
        },
        {
          "output_type": "execute_result",
          "data": {
            "text/html": [
              "<div>\n",
              "<style scoped>\n",
              "    .dataframe tbody tr th:only-of-type {\n",
              "        vertical-align: middle;\n",
              "    }\n",
              "\n",
              "    .dataframe tbody tr th {\n",
              "        vertical-align: top;\n",
              "    }\n",
              "\n",
              "    .dataframe thead th {\n",
              "        text-align: right;\n",
              "    }\n",
              "</style>\n",
              "<table border=\"1\" class=\"dataframe\">\n",
              "  <thead>\n",
              "    <tr style=\"text-align: right;\">\n",
              "      <th></th>\n",
              "      <th>label</th>\n",
              "      <th>title</th>\n",
              "    </tr>\n",
              "    <tr>\n",
              "      <th>id</th>\n",
              "      <th></th>\n",
              "      <th></th>\n",
              "    </tr>\n",
              "  </thead>\n",
              "  <tbody>\n",
              "    <tr>\n",
              "      <th>0</th>\n",
              "      <td>1</td>\n",
              "      <td>interactive visual exploration of neighbor bas...</td>\n",
              "    </tr>\n",
              "    <tr>\n",
              "      <th>3</th>\n",
              "      <td>1</td>\n",
              "      <td>relational division four algorithms and their ...</td>\n",
              "    </tr>\n",
              "    <tr>\n",
              "      <th>6</th>\n",
              "      <td>1</td>\n",
              "      <td>simplifying xml schema effortless handling of ...</td>\n",
              "    </tr>\n",
              "    <tr>\n",
              "      <th>8</th>\n",
              "      <td>0</td>\n",
              "      <td>funbase a function based information managemen...</td>\n",
              "    </tr>\n",
              "    <tr>\n",
              "      <th>9</th>\n",
              "      <td>0</td>\n",
              "      <td>inverted matrix efficient discovery of frequen...</td>\n",
              "    </tr>\n",
              "  </tbody>\n",
              "</table>\n",
              "</div>"
            ],
            "text/plain": [
              "    label                                              title\n",
              "id                                                          \n",
              "0       1  interactive visual exploration of neighbor bas...\n",
              "3       1  relational division four algorithms and their ...\n",
              "6       1  simplifying xml schema effortless handling of ...\n",
              "8       0  funbase a function based information managemen...\n",
              "9       0  inverted matrix efficient discovery of frequen..."
            ]
          },
          "metadata": {
            "tags": []
          },
          "execution_count": 5
        }
      ]
    },
    {
      "cell_type": "code",
      "metadata": {
        "id": "So5ztHTNh7zn",
        "colab_type": "code",
        "colab": {}
      },
      "source": [
        "# Then we extract the research papers labels and titles as numpy arrays.\n",
        "titles = df.title.values\n",
        "labels = df.label.values"
      ],
      "execution_count": null,
      "outputs": []
    },
    {
      "cell_type": "markdown",
      "metadata": {
        "id": "K-T_WpWenW1N",
        "colab_type": "text"
      },
      "source": [
        "# Tokenization"
      ]
    },
    {
      "cell_type": "code",
      "metadata": {
        "id": "5RhnutYLh7ue",
        "colab_type": "code",
        "colab": {}
      },
      "source": [
        "# For Bert, we have to tokenize our text using the function BertTokenizer from the package transformers\n",
        "# Here, we use the best-base-uncased pretrained model, a list of bert models for the package transformers can be found here https://huggingface.co/transformers/pretrained_models.html\n",
        "from transformers import BertTokenizer\n",
        "tokenizer = BertTokenizer.from_pretrained('bert-base-uncased', do_lower_case=True)"
      ],
      "execution_count": null,
      "outputs": []
    },
    {
      "cell_type": "code",
      "metadata": {
        "id": "2CotiO6jh7k6",
        "colab_type": "code",
        "colab": {
          "base_uri": "https://localhost:8080/",
          "height": 70
        },
        "outputId": "e13e27c7-5eb5-4ee0-93f2-6778e06aa9c1"
      },
      "source": [
        "# Let's visualize the tokenization\n",
        "print('Original sentence: ', titles[0])\n",
        "print('Tokenized sentence: ', tokenizer.tokenize(titles[0]))\n",
        "print('Tokens IDs: ', tokenizer.convert_tokens_to_ids(tokenizer.tokenize(titles[0])))"
      ],
      "execution_count": null,
      "outputs": [
        {
          "output_type": "stream",
          "text": [
            "Original sentence:  interactive visual exploration of neighbor based patterns in data streams\n",
            "Tokenized sentence:  ['interactive', 'visual', 'exploration', 'of', 'neighbor', 'based', 'patterns', 'in', 'data', 'streams']\n",
            "Tokens IDs:  [9123, 5107, 8993, 1997, 11429, 2241, 7060, 1999, 2951, 9199]\n"
          ],
          "name": "stdout"
        }
      ]
    },
    {
      "cell_type": "code",
      "metadata": {
        "id": "OVUDo_Mxh7i2",
        "colab_type": "code",
        "colab": {
          "base_uri": "https://localhost:8080/",
          "height": 52
        },
        "outputId": "e5456fa7-046f-405c-f180-2720a97f6fa5"
      },
      "source": [
        "# We apply the tokenization for all the sentences\n",
        "# We will save all the tokens IDs into a dictionnary called inputs_id\n",
        "inputs_id = []\n",
        "\n",
        "# The function tokenizer.encode, allows to tokenize a sentence, to use CLS token to the start of a sentence and SEP to the end of a sentence, \n",
        "# and to map each token to their ids. We use a loop to go through all the sentences of our dataset df.\n",
        "for t in titles:\n",
        "  encoded_sent = tokenizer.encode(t,\n",
        "                                  add_special_tokens=True)\n",
        "  \n",
        "  inputs_id.append(encoded_sent)\n",
        "\n",
        "print('Original sentence: ', titles[0])\n",
        "print(' Tokens IDs:', inputs_id[0])"
      ],
      "execution_count": null,
      "outputs": [
        {
          "output_type": "stream",
          "text": [
            "Original sentence:  interactive visual exploration of neighbor based patterns in data streams\n",
            " Tokens IDs: [101, 9123, 5107, 8993, 1997, 11429, 2241, 7060, 1999, 2951, 9199, 102]\n"
          ],
          "name": "stdout"
        }
      ]
    },
    {
      "cell_type": "markdown",
      "metadata": {
        "id": "NgIJvDa_sIbs",
        "colab_type": "text"
      },
      "source": [
        "# Padding"
      ]
    },
    {
      "cell_type": "code",
      "metadata": {
        "id": "nsPLmstNh7eu",
        "colab_type": "code",
        "colab": {
          "base_uri": "https://localhost:8080/",
          "height": 35
        },
        "outputId": "5df390f1-b5a7-491c-9063-b5a38d985b2f"
      },
      "source": [
        "# Let's check the length of our longest sentence\n",
        "print('Max sentence length: ', max([len(sen) for sen in inputs_id]))"
      ],
      "execution_count": null,
      "outputs": [
        {
          "output_type": "stream",
          "text": [
            "Max sentence length:  42\n"
          ],
          "name": "stdout"
        }
      ]
    },
    {
      "cell_type": "code",
      "metadata": {
        "id": "F3-kHAazh7cc",
        "colab_type": "code",
        "colab": {
          "base_uri": "https://localhost:8080/",
          "height": 35
        },
        "outputId": "5b4689c4-1ae5-4aeb-ff76-30e24b7eb7e7"
      },
      "source": [
        "# We use the pad sequences function from Keras to pad our sequences to the same size.\n",
        "# We will use the max length of 42, which is the maximum length of our longest sentence.\n",
        "from keras.preprocessing.sequence import pad_sequences\n",
        "\n",
        "MAX_LEN = 42\n",
        "# We pad with the value 0 added to the end of the sentene up to 42 ids in the same sentence.\n",
        "inputs_id = pad_sequences(inputs_id, maxlen=MAX_LEN, dtype=\"long\", \n",
        "                          value=0, truncating=\"post\", padding=\"post\")"
      ],
      "execution_count": null,
      "outputs": [
        {
          "output_type": "stream",
          "text": [
            "Using TensorFlow backend.\n"
          ],
          "name": "stderr"
        }
      ]
    },
    {
      "cell_type": "markdown",
      "metadata": {
        "id": "b99LWS7ix1mC",
        "colab_type": "text"
      },
      "source": [
        "# Attention Mask"
      ]
    },
    {
      "cell_type": "code",
      "metadata": {
        "id": "tjonnihah7Y7",
        "colab_type": "code",
        "colab": {}
      },
      "source": [
        "# As we padded sequences, we introduced a lot of ids = 0, that are not real words.\n",
        "# We use an attention mask in order to differentiate real ids from padding (ids = 0)\n",
        "\n",
        "attention_masks = []\n",
        "\n",
        "for sentence in inputs_id:\n",
        "  att_mask = [int(token_id > 0) for token_id in sentence]\n",
        "  attention_masks.append(att_mask)"
      ],
      "execution_count": null,
      "outputs": []
    },
    {
      "cell_type": "markdown",
      "metadata": {
        "id": "lzb3f-vxy7iG",
        "colab_type": "text"
      },
      "source": [
        "# Split data into training and validation sets"
      ]
    },
    {
      "cell_type": "code",
      "metadata": {
        "id": "eCVr91YCzBxd",
        "colab_type": "code",
        "colab": {}
      },
      "source": [
        "from sklearn.model_selection import train_test_split\n",
        "\n",
        "train_inputs, validation_inputs, train_labels, validation_labels = train_test_split(inputs_id, labels,\n",
        "                                                                                   random_state=2020, test_size=0.2)\n",
        "\n",
        "train_masks, validation_masks, _, _ = train_test_split(attention_masks, labels, random_state=2020, test_size=0.2)"
      ],
      "execution_count": null,
      "outputs": []
    },
    {
      "cell_type": "markdown",
      "metadata": {
        "id": "oMI1HNDt0Cdj",
        "colab_type": "text"
      },
      "source": [
        "# We convert our numpy arrays to PyTorch data in order to input them in the model\n"
      ]
    },
    {
      "cell_type": "code",
      "metadata": {
        "id": "t2xid-krzCCs",
        "colab_type": "code",
        "colab": {}
      },
      "source": [
        "train_inputs = torch.tensor(train_inputs)\n",
        "validation_inputs = torch.tensor(validation_inputs)\n",
        "\n",
        "train_labels = torch.tensor(train_labels)\n",
        "validation_labels = torch.tensor(validation_labels)\n",
        "\n",
        "train_masks = torch.tensor(train_masks)\n",
        "validation_masks = torch.tensor(validation_masks)"
      ],
      "execution_count": null,
      "outputs": []
    },
    {
      "cell_type": "code",
      "metadata": {
        "id": "cgdRPsihzCMp",
        "colab_type": "code",
        "colab": {}
      },
      "source": [
        "# We will use Pytorch DataLoader during the training phase because it is more efficient than a for loop as all the data won't be loaded into memory.\n",
        "# Therefor, we need to specify our batch_size that will be used during the training phase and it will be 32.\n",
        "\n",
        "from torch.utils.data import TensorDataset, DataLoader, RandomSampler, SequentialSampler\n",
        "\n",
        "batch_size = 32\n",
        "\n",
        "# Create the DataLoader for our training set.\n",
        "train_data = TensorDataset(train_inputs, train_masks, train_labels)\n",
        "train_sampler = RandomSampler(train_data)\n",
        "train_dataloader = DataLoader(train_data, sampler=train_sampler, batch_size=batch_size)\n",
        "\n",
        "# Create the DataLoader for our validation set.\n",
        "validation_data = TensorDataset(validation_inputs, validation_masks, validation_labels)\n",
        "validation_sampler = SequentialSampler(validation_data)\n",
        "validation_dataloader = DataLoader(validation_data, sampler=validation_sampler, batch_size=batch_size)"
      ],
      "execution_count": null,
      "outputs": []
    },
    {
      "cell_type": "markdown",
      "metadata": {
        "id": "K3i3pLHZtJ7A",
        "colab_type": "text"
      },
      "source": [
        "# Training the model"
      ]
    },
    {
      "cell_type": "code",
      "metadata": {
        "id": "A1B_rs-stMM7",
        "colab_type": "code",
        "colab": {
          "base_uri": "https://localhost:8080/",
          "height": 1000
        },
        "outputId": "307f958a-9e2c-436e-cacc-1e61b1f93d44"
      },
      "source": [
        "from transformers import BertForSequenceClassification, AdamW, BertConfig\n",
        "\n",
        "# we load the pretrained bert base uncased model, and we specify that we have a multi classification task with 5 different labels.\n",
        "model = BertForSequenceClassification.from_pretrained(\n",
        "    \"bert-base-uncased\", \n",
        "    num_labels = 5, \n",
        "    output_attentions = False,\n",
        "    output_hidden_states = False)\n",
        "\n",
        "# Tell pytorch to run this model on the GPU.\n",
        "model.cuda()"
      ],
      "execution_count": null,
      "outputs": [
        {
          "output_type": "execute_result",
          "data": {
            "text/plain": [
              "BertForSequenceClassification(\n",
              "  (bert): BertModel(\n",
              "    (embeddings): BertEmbeddings(\n",
              "      (word_embeddings): Embedding(30522, 768, padding_idx=0)\n",
              "      (position_embeddings): Embedding(512, 768)\n",
              "      (token_type_embeddings): Embedding(2, 768)\n",
              "      (LayerNorm): LayerNorm((768,), eps=1e-12, elementwise_affine=True)\n",
              "      (dropout): Dropout(p=0.1, inplace=False)\n",
              "    )\n",
              "    (encoder): BertEncoder(\n",
              "      (layer): ModuleList(\n",
              "        (0): BertLayer(\n",
              "          (attention): BertAttention(\n",
              "            (self): BertSelfAttention(\n",
              "              (query): Linear(in_features=768, out_features=768, bias=True)\n",
              "              (key): Linear(in_features=768, out_features=768, bias=True)\n",
              "              (value): Linear(in_features=768, out_features=768, bias=True)\n",
              "              (dropout): Dropout(p=0.1, inplace=False)\n",
              "            )\n",
              "            (output): BertSelfOutput(\n",
              "              (dense): Linear(in_features=768, out_features=768, bias=True)\n",
              "              (LayerNorm): LayerNorm((768,), eps=1e-12, elementwise_affine=True)\n",
              "              (dropout): Dropout(p=0.1, inplace=False)\n",
              "            )\n",
              "          )\n",
              "          (intermediate): BertIntermediate(\n",
              "            (dense): Linear(in_features=768, out_features=3072, bias=True)\n",
              "          )\n",
              "          (output): BertOutput(\n",
              "            (dense): Linear(in_features=3072, out_features=768, bias=True)\n",
              "            (LayerNorm): LayerNorm((768,), eps=1e-12, elementwise_affine=True)\n",
              "            (dropout): Dropout(p=0.1, inplace=False)\n",
              "          )\n",
              "        )\n",
              "        (1): BertLayer(\n",
              "          (attention): BertAttention(\n",
              "            (self): BertSelfAttention(\n",
              "              (query): Linear(in_features=768, out_features=768, bias=True)\n",
              "              (key): Linear(in_features=768, out_features=768, bias=True)\n",
              "              (value): Linear(in_features=768, out_features=768, bias=True)\n",
              "              (dropout): Dropout(p=0.1, inplace=False)\n",
              "            )\n",
              "            (output): BertSelfOutput(\n",
              "              (dense): Linear(in_features=768, out_features=768, bias=True)\n",
              "              (LayerNorm): LayerNorm((768,), eps=1e-12, elementwise_affine=True)\n",
              "              (dropout): Dropout(p=0.1, inplace=False)\n",
              "            )\n",
              "          )\n",
              "          (intermediate): BertIntermediate(\n",
              "            (dense): Linear(in_features=768, out_features=3072, bias=True)\n",
              "          )\n",
              "          (output): BertOutput(\n",
              "            (dense): Linear(in_features=3072, out_features=768, bias=True)\n",
              "            (LayerNorm): LayerNorm((768,), eps=1e-12, elementwise_affine=True)\n",
              "            (dropout): Dropout(p=0.1, inplace=False)\n",
              "          )\n",
              "        )\n",
              "        (2): BertLayer(\n",
              "          (attention): BertAttention(\n",
              "            (self): BertSelfAttention(\n",
              "              (query): Linear(in_features=768, out_features=768, bias=True)\n",
              "              (key): Linear(in_features=768, out_features=768, bias=True)\n",
              "              (value): Linear(in_features=768, out_features=768, bias=True)\n",
              "              (dropout): Dropout(p=0.1, inplace=False)\n",
              "            )\n",
              "            (output): BertSelfOutput(\n",
              "              (dense): Linear(in_features=768, out_features=768, bias=True)\n",
              "              (LayerNorm): LayerNorm((768,), eps=1e-12, elementwise_affine=True)\n",
              "              (dropout): Dropout(p=0.1, inplace=False)\n",
              "            )\n",
              "          )\n",
              "          (intermediate): BertIntermediate(\n",
              "            (dense): Linear(in_features=768, out_features=3072, bias=True)\n",
              "          )\n",
              "          (output): BertOutput(\n",
              "            (dense): Linear(in_features=3072, out_features=768, bias=True)\n",
              "            (LayerNorm): LayerNorm((768,), eps=1e-12, elementwise_affine=True)\n",
              "            (dropout): Dropout(p=0.1, inplace=False)\n",
              "          )\n",
              "        )\n",
              "        (3): BertLayer(\n",
              "          (attention): BertAttention(\n",
              "            (self): BertSelfAttention(\n",
              "              (query): Linear(in_features=768, out_features=768, bias=True)\n",
              "              (key): Linear(in_features=768, out_features=768, bias=True)\n",
              "              (value): Linear(in_features=768, out_features=768, bias=True)\n",
              "              (dropout): Dropout(p=0.1, inplace=False)\n",
              "            )\n",
              "            (output): BertSelfOutput(\n",
              "              (dense): Linear(in_features=768, out_features=768, bias=True)\n",
              "              (LayerNorm): LayerNorm((768,), eps=1e-12, elementwise_affine=True)\n",
              "              (dropout): Dropout(p=0.1, inplace=False)\n",
              "            )\n",
              "          )\n",
              "          (intermediate): BertIntermediate(\n",
              "            (dense): Linear(in_features=768, out_features=3072, bias=True)\n",
              "          )\n",
              "          (output): BertOutput(\n",
              "            (dense): Linear(in_features=3072, out_features=768, bias=True)\n",
              "            (LayerNorm): LayerNorm((768,), eps=1e-12, elementwise_affine=True)\n",
              "            (dropout): Dropout(p=0.1, inplace=False)\n",
              "          )\n",
              "        )\n",
              "        (4): BertLayer(\n",
              "          (attention): BertAttention(\n",
              "            (self): BertSelfAttention(\n",
              "              (query): Linear(in_features=768, out_features=768, bias=True)\n",
              "              (key): Linear(in_features=768, out_features=768, bias=True)\n",
              "              (value): Linear(in_features=768, out_features=768, bias=True)\n",
              "              (dropout): Dropout(p=0.1, inplace=False)\n",
              "            )\n",
              "            (output): BertSelfOutput(\n",
              "              (dense): Linear(in_features=768, out_features=768, bias=True)\n",
              "              (LayerNorm): LayerNorm((768,), eps=1e-12, elementwise_affine=True)\n",
              "              (dropout): Dropout(p=0.1, inplace=False)\n",
              "            )\n",
              "          )\n",
              "          (intermediate): BertIntermediate(\n",
              "            (dense): Linear(in_features=768, out_features=3072, bias=True)\n",
              "          )\n",
              "          (output): BertOutput(\n",
              "            (dense): Linear(in_features=3072, out_features=768, bias=True)\n",
              "            (LayerNorm): LayerNorm((768,), eps=1e-12, elementwise_affine=True)\n",
              "            (dropout): Dropout(p=0.1, inplace=False)\n",
              "          )\n",
              "        )\n",
              "        (5): BertLayer(\n",
              "          (attention): BertAttention(\n",
              "            (self): BertSelfAttention(\n",
              "              (query): Linear(in_features=768, out_features=768, bias=True)\n",
              "              (key): Linear(in_features=768, out_features=768, bias=True)\n",
              "              (value): Linear(in_features=768, out_features=768, bias=True)\n",
              "              (dropout): Dropout(p=0.1, inplace=False)\n",
              "            )\n",
              "            (output): BertSelfOutput(\n",
              "              (dense): Linear(in_features=768, out_features=768, bias=True)\n",
              "              (LayerNorm): LayerNorm((768,), eps=1e-12, elementwise_affine=True)\n",
              "              (dropout): Dropout(p=0.1, inplace=False)\n",
              "            )\n",
              "          )\n",
              "          (intermediate): BertIntermediate(\n",
              "            (dense): Linear(in_features=768, out_features=3072, bias=True)\n",
              "          )\n",
              "          (output): BertOutput(\n",
              "            (dense): Linear(in_features=3072, out_features=768, bias=True)\n",
              "            (LayerNorm): LayerNorm((768,), eps=1e-12, elementwise_affine=True)\n",
              "            (dropout): Dropout(p=0.1, inplace=False)\n",
              "          )\n",
              "        )\n",
              "        (6): BertLayer(\n",
              "          (attention): BertAttention(\n",
              "            (self): BertSelfAttention(\n",
              "              (query): Linear(in_features=768, out_features=768, bias=True)\n",
              "              (key): Linear(in_features=768, out_features=768, bias=True)\n",
              "              (value): Linear(in_features=768, out_features=768, bias=True)\n",
              "              (dropout): Dropout(p=0.1, inplace=False)\n",
              "            )\n",
              "            (output): BertSelfOutput(\n",
              "              (dense): Linear(in_features=768, out_features=768, bias=True)\n",
              "              (LayerNorm): LayerNorm((768,), eps=1e-12, elementwise_affine=True)\n",
              "              (dropout): Dropout(p=0.1, inplace=False)\n",
              "            )\n",
              "          )\n",
              "          (intermediate): BertIntermediate(\n",
              "            (dense): Linear(in_features=768, out_features=3072, bias=True)\n",
              "          )\n",
              "          (output): BertOutput(\n",
              "            (dense): Linear(in_features=3072, out_features=768, bias=True)\n",
              "            (LayerNorm): LayerNorm((768,), eps=1e-12, elementwise_affine=True)\n",
              "            (dropout): Dropout(p=0.1, inplace=False)\n",
              "          )\n",
              "        )\n",
              "        (7): BertLayer(\n",
              "          (attention): BertAttention(\n",
              "            (self): BertSelfAttention(\n",
              "              (query): Linear(in_features=768, out_features=768, bias=True)\n",
              "              (key): Linear(in_features=768, out_features=768, bias=True)\n",
              "              (value): Linear(in_features=768, out_features=768, bias=True)\n",
              "              (dropout): Dropout(p=0.1, inplace=False)\n",
              "            )\n",
              "            (output): BertSelfOutput(\n",
              "              (dense): Linear(in_features=768, out_features=768, bias=True)\n",
              "              (LayerNorm): LayerNorm((768,), eps=1e-12, elementwise_affine=True)\n",
              "              (dropout): Dropout(p=0.1, inplace=False)\n",
              "            )\n",
              "          )\n",
              "          (intermediate): BertIntermediate(\n",
              "            (dense): Linear(in_features=768, out_features=3072, bias=True)\n",
              "          )\n",
              "          (output): BertOutput(\n",
              "            (dense): Linear(in_features=3072, out_features=768, bias=True)\n",
              "            (LayerNorm): LayerNorm((768,), eps=1e-12, elementwise_affine=True)\n",
              "            (dropout): Dropout(p=0.1, inplace=False)\n",
              "          )\n",
              "        )\n",
              "        (8): BertLayer(\n",
              "          (attention): BertAttention(\n",
              "            (self): BertSelfAttention(\n",
              "              (query): Linear(in_features=768, out_features=768, bias=True)\n",
              "              (key): Linear(in_features=768, out_features=768, bias=True)\n",
              "              (value): Linear(in_features=768, out_features=768, bias=True)\n",
              "              (dropout): Dropout(p=0.1, inplace=False)\n",
              "            )\n",
              "            (output): BertSelfOutput(\n",
              "              (dense): Linear(in_features=768, out_features=768, bias=True)\n",
              "              (LayerNorm): LayerNorm((768,), eps=1e-12, elementwise_affine=True)\n",
              "              (dropout): Dropout(p=0.1, inplace=False)\n",
              "            )\n",
              "          )\n",
              "          (intermediate): BertIntermediate(\n",
              "            (dense): Linear(in_features=768, out_features=3072, bias=True)\n",
              "          )\n",
              "          (output): BertOutput(\n",
              "            (dense): Linear(in_features=3072, out_features=768, bias=True)\n",
              "            (LayerNorm): LayerNorm((768,), eps=1e-12, elementwise_affine=True)\n",
              "            (dropout): Dropout(p=0.1, inplace=False)\n",
              "          )\n",
              "        )\n",
              "        (9): BertLayer(\n",
              "          (attention): BertAttention(\n",
              "            (self): BertSelfAttention(\n",
              "              (query): Linear(in_features=768, out_features=768, bias=True)\n",
              "              (key): Linear(in_features=768, out_features=768, bias=True)\n",
              "              (value): Linear(in_features=768, out_features=768, bias=True)\n",
              "              (dropout): Dropout(p=0.1, inplace=False)\n",
              "            )\n",
              "            (output): BertSelfOutput(\n",
              "              (dense): Linear(in_features=768, out_features=768, bias=True)\n",
              "              (LayerNorm): LayerNorm((768,), eps=1e-12, elementwise_affine=True)\n",
              "              (dropout): Dropout(p=0.1, inplace=False)\n",
              "            )\n",
              "          )\n",
              "          (intermediate): BertIntermediate(\n",
              "            (dense): Linear(in_features=768, out_features=3072, bias=True)\n",
              "          )\n",
              "          (output): BertOutput(\n",
              "            (dense): Linear(in_features=3072, out_features=768, bias=True)\n",
              "            (LayerNorm): LayerNorm((768,), eps=1e-12, elementwise_affine=True)\n",
              "            (dropout): Dropout(p=0.1, inplace=False)\n",
              "          )\n",
              "        )\n",
              "        (10): BertLayer(\n",
              "          (attention): BertAttention(\n",
              "            (self): BertSelfAttention(\n",
              "              (query): Linear(in_features=768, out_features=768, bias=True)\n",
              "              (key): Linear(in_features=768, out_features=768, bias=True)\n",
              "              (value): Linear(in_features=768, out_features=768, bias=True)\n",
              "              (dropout): Dropout(p=0.1, inplace=False)\n",
              "            )\n",
              "            (output): BertSelfOutput(\n",
              "              (dense): Linear(in_features=768, out_features=768, bias=True)\n",
              "              (LayerNorm): LayerNorm((768,), eps=1e-12, elementwise_affine=True)\n",
              "              (dropout): Dropout(p=0.1, inplace=False)\n",
              "            )\n",
              "          )\n",
              "          (intermediate): BertIntermediate(\n",
              "            (dense): Linear(in_features=768, out_features=3072, bias=True)\n",
              "          )\n",
              "          (output): BertOutput(\n",
              "            (dense): Linear(in_features=3072, out_features=768, bias=True)\n",
              "            (LayerNorm): LayerNorm((768,), eps=1e-12, elementwise_affine=True)\n",
              "            (dropout): Dropout(p=0.1, inplace=False)\n",
              "          )\n",
              "        )\n",
              "        (11): BertLayer(\n",
              "          (attention): BertAttention(\n",
              "            (self): BertSelfAttention(\n",
              "              (query): Linear(in_features=768, out_features=768, bias=True)\n",
              "              (key): Linear(in_features=768, out_features=768, bias=True)\n",
              "              (value): Linear(in_features=768, out_features=768, bias=True)\n",
              "              (dropout): Dropout(p=0.1, inplace=False)\n",
              "            )\n",
              "            (output): BertSelfOutput(\n",
              "              (dense): Linear(in_features=768, out_features=768, bias=True)\n",
              "              (LayerNorm): LayerNorm((768,), eps=1e-12, elementwise_affine=True)\n",
              "              (dropout): Dropout(p=0.1, inplace=False)\n",
              "            )\n",
              "          )\n",
              "          (intermediate): BertIntermediate(\n",
              "            (dense): Linear(in_features=768, out_features=3072, bias=True)\n",
              "          )\n",
              "          (output): BertOutput(\n",
              "            (dense): Linear(in_features=3072, out_features=768, bias=True)\n",
              "            (LayerNorm): LayerNorm((768,), eps=1e-12, elementwise_affine=True)\n",
              "            (dropout): Dropout(p=0.1, inplace=False)\n",
              "          )\n",
              "        )\n",
              "      )\n",
              "    )\n",
              "    (pooler): BertPooler(\n",
              "      (dense): Linear(in_features=768, out_features=768, bias=True)\n",
              "      (activation): Tanh()\n",
              "    )\n",
              "  )\n",
              "  (dropout): Dropout(p=0.1, inplace=False)\n",
              "  (classifier): Linear(in_features=768, out_features=5, bias=True)\n",
              ")"
            ]
          },
          "metadata": {
            "tags": []
          },
          "execution_count": 16
        }
      ]
    },
    {
      "cell_type": "markdown",
      "metadata": {
        "id": "-n9ifHv1vx_k",
        "colab_type": "text"
      },
      "source": [
        "# Optimizer "
      ]
    },
    {
      "cell_type": "code",
      "metadata": {
        "id": "cq50S5_5u0qR",
        "colab_type": "code",
        "colab": {}
      },
      "source": [
        "# We use the Adam with weight decay fix from the huggingface library.\n",
        "optimizer = AdamW(model.parameters(),\n",
        "                  lr = 1e-5, # args.learning_rate - default is 5e-5, our notebook had 2e-5\n",
        "                  eps = 1e-8) # args.adam_epsilon  - default is 1e-8.\n"
      ],
      "execution_count": null,
      "outputs": []
    },
    {
      "cell_type": "code",
      "metadata": {
        "id": "xLZqby9QzCX0",
        "colab_type": "code",
        "colab": {}
      },
      "source": [
        "from transformers import get_linear_schedule_with_warmup\n",
        "\n",
        "# Number of training epochs\n",
        "epochs = 4\n",
        "\n",
        "# Total number of training steps\n",
        "total_steps = len(train_dataloader) * epochs\n",
        "\n",
        "# Create the learning rate scheduler.\n",
        "scheduler = get_linear_schedule_with_warmup(optimizer, \n",
        "                                            num_warmup_steps = 0,\n",
        "                                            num_training_steps = total_steps)"
      ],
      "execution_count": null,
      "outputs": []
    },
    {
      "cell_type": "code",
      "metadata": {
        "id": "dQmjjTKqzzgN",
        "colab_type": "code",
        "colab": {}
      },
      "source": [
        "# Function to calculate the accuracy of our predictions vs labels\n",
        "def flat_accuracy(preds, labels):\n",
        "    pred_flat = np.argmax(preds, axis=1).flatten()\n",
        "    labels_flat = labels.flatten()\n",
        "    return np.sum(pred_flat == labels_flat) / len(labels_flat)"
      ],
      "execution_count": null,
      "outputs": []
    },
    {
      "cell_type": "code",
      "metadata": {
        "id": "zWQVjwb3zzk4",
        "colab_type": "code",
        "colab": {}
      },
      "source": [
        "import time\n",
        "import datetime\n",
        "\n",
        "def format_time(elapsed):\n",
        "    '''\n",
        "    Takes a time in seconds and returns a string hh:mm:ss\n",
        "    '''\n",
        "    # Round to the nearest second.\n",
        "    elapsed_rounded = int(round((elapsed)))\n",
        "    \n",
        "    # Format as hh:mm:ss\n",
        "    return str(datetime.timedelta(seconds=elapsed_rounded))"
      ],
      "execution_count": null,
      "outputs": []
    },
    {
      "cell_type": "code",
      "metadata": {
        "id": "N2hFR35Mzzd8",
        "colab_type": "code",
        "colab": {
          "base_uri": "https://localhost:8080/",
          "height": 1000
        },
        "outputId": "c76b211c-fc50-4de3-9a39-7e13e403597d"
      },
      "source": [
        "import random\n",
        "\n",
        "seed_val = 42\n",
        "\n",
        "random.seed(seed_val)\n",
        "np.random.seed(seed_val)\n",
        "torch.manual_seed(seed_val)\n",
        "torch.cuda.manual_seed_all(seed_val)\n",
        "\n",
        "# Store the average loss after each epoch so we can plot them.\n",
        "loss_values = []\n",
        "\n",
        "# For each epoch\n",
        "for epoch_i in range(0, epochs):\n",
        "\n",
        "    print('======== Epoch {:} / {:} ========'.format(epoch_i + 1, epochs))\n",
        "\n",
        "    t0 = time.time()\n",
        "    total_loss = 0\n",
        "\n",
        "    model.train()\n",
        "\n",
        "    # For each batch of training data\n",
        "    for step, batch in enumerate(train_dataloader):\n",
        "\n",
        "        # Progress update every 40 batches.\n",
        "        if step % 40 == 0 and not step == 0:\n",
        "            # Calculate elapsed time in minutes.\n",
        "            elapsed = format_time(time.time() - t0)\n",
        "            \n",
        "            # Report progress.\n",
        "            print('  Batch {:>5,}  of  {:>5,}.    Elapsed: {:}.'.format(step, len(train_dataloader), elapsed))\n",
        "\n",
        "        # Unpack this training batch from our dataloader. \n",
        "        b_input_ids = batch[0].to(device)\n",
        "        b_input_mask = batch[1].to(device)\n",
        "        b_labels = batch[2].to(device)\n",
        "\n",
        "        # Clear any previously calculated gradients before performing a backward pass.\n",
        "        model.zero_grad()        \n",
        "\n",
        "        # Perform a forward pass (evaluate the model on this training batch).\n",
        "        outputs = model(b_input_ids, \n",
        "                    token_type_ids=None, \n",
        "                    attention_mask=b_input_mask, \n",
        "                    labels=b_labels)\n",
        "        \n",
        "        loss = outputs[0]\n",
        "\n",
        "        # Accumulate the training loss over all of the batches so that we can calculate the average loss at the end.\n",
        "        total_loss += loss.item()\n",
        "\n",
        "        # Perform a backward pass to calculate the gradients.\n",
        "        loss.backward()\n",
        "\n",
        "        # We fix the norm of the gradients to 1.0 to help prevent the \"exploding gradients\" problem.\n",
        "        torch.nn.utils.clip_grad_norm_(model.parameters(), 1.0)\n",
        "\n",
        "        # Update parameters and take a step using the computed gradient.\n",
        "        optimizer.step()\n",
        "\n",
        "        # Update the learning rate.\n",
        "        scheduler.step()\n",
        "\n",
        "    # Calculate the average loss over the training data.\n",
        "    avg_train_loss = total_loss / len(train_dataloader)            \n",
        "    \n",
        "    # Store the loss value for plotting the learning curve.\n",
        "    loss_values.append(avg_train_loss)\n",
        "\n",
        "    print(\"\")\n",
        "    print(\"  Average training loss: {0:.2f}\".format(avg_train_loss))\n",
        "    print(\"  Training epcoh took: {:}\".format(format_time(time.time() - t0)))\n",
        "        \n",
        "    # ========================================\n",
        "    #               Validation\n",
        "    # ========================================\n",
        "    # After each training epoch we calculate the validation accuracy.\n",
        "\n",
        "    print(\"\")\n",
        "    print(\"Running Validation...\")\n",
        "\n",
        "    t0 = time.time()\n",
        "\n",
        "    model.eval()\n",
        "\n",
        "    # Tracking variables \n",
        "    eval_loss, eval_accuracy = 0, 0\n",
        "    nb_eval_steps, nb_eval_examples = 0, 0\n",
        "\n",
        "    # Evaluate data for one epoch\n",
        "    for batch in validation_dataloader:\n",
        "        \n",
        "        # Add batch to GPU\n",
        "        batch = tuple(t.to(device) for t in batch)\n",
        "        \n",
        "        # Unpack the inputs from our dataloader\n",
        "        b_input_ids, b_input_mask, b_labels = batch\n",
        "        \n",
        "        # Telling the model not to compute or store gradients, saving memory and speeding up validation\n",
        "        with torch.no_grad():        \n",
        "\n",
        "            # Forward pass, calculate logit predictions.\n",
        "            outputs = model(b_input_ids, \n",
        "                            token_type_ids=None, \n",
        "                            attention_mask=b_input_mask)\n",
        "        \n",
        "        # Get the \"logits\" output by the model. \n",
        "        logits = outputs[0]\n",
        "\n",
        "        # Move logits and labels to CPU\n",
        "        logits = logits.detach().cpu().numpy()\n",
        "        label_ids = b_labels.to('cpu').numpy()\n",
        "        \n",
        "        # Calculate the accuracy for this batch of test sentences.\n",
        "        tmp_eval_accuracy = flat_accuracy(logits, label_ids)\n",
        "        \n",
        "        # Accumulate the total accuracy.\n",
        "        eval_accuracy += tmp_eval_accuracy\n",
        "\n",
        "        # Track the number of batches\n",
        "        nb_eval_steps += 1\n",
        "\n",
        "    # Report the final accuracy for this validation run.\n",
        "    print(\"  Accuracy: {0:.2f}\".format(eval_accuracy/nb_eval_steps))\n",
        "    print(\"  Validation took: {:}\".format(format_time(time.time() - t0)))"
      ],
      "execution_count": null,
      "outputs": [
        {
          "output_type": "stream",
          "text": [
            "======== Epoch 1 / 4 ========\n",
            "  Batch    40  of    320.    Elapsed: 0:00:07.\n",
            "  Batch    80  of    320.    Elapsed: 0:00:14.\n",
            "  Batch   120  of    320.    Elapsed: 0:00:21.\n",
            "  Batch   160  of    320.    Elapsed: 0:00:28.\n",
            "  Batch   200  of    320.    Elapsed: 0:00:35.\n",
            "  Batch   240  of    320.    Elapsed: 0:00:42.\n",
            "  Batch   280  of    320.    Elapsed: 0:00:49.\n",
            "\n",
            "  Average training loss: 1.17\n",
            "  Training epcoh took: 0:00:56\n",
            "\n",
            "Running Validation...\n",
            "  Accuracy: 0.68\n",
            "  Validation took: 0:00:03\n",
            "======== Epoch 2 / 4 ========\n",
            "  Batch    40  of    320.    Elapsed: 0:00:07.\n",
            "  Batch    80  of    320.    Elapsed: 0:00:14.\n",
            "  Batch   120  of    320.    Elapsed: 0:00:21.\n",
            "  Batch   160  of    320.    Elapsed: 0:00:28.\n",
            "  Batch   200  of    320.    Elapsed: 0:00:35.\n",
            "  Batch   240  of    320.    Elapsed: 0:00:42.\n",
            "  Batch   280  of    320.    Elapsed: 0:00:49.\n",
            "\n",
            "  Average training loss: 0.80\n",
            "  Training epcoh took: 0:00:56\n",
            "\n",
            "Running Validation...\n",
            "  Accuracy: 0.71\n",
            "  Validation took: 0:00:03\n",
            "======== Epoch 3 / 4 ========\n",
            "  Batch    40  of    320.    Elapsed: 0:00:07.\n",
            "  Batch    80  of    320.    Elapsed: 0:00:14.\n",
            "  Batch   120  of    320.    Elapsed: 0:00:21.\n",
            "  Batch   160  of    320.    Elapsed: 0:00:28.\n",
            "  Batch   200  of    320.    Elapsed: 0:00:35.\n",
            "  Batch   240  of    320.    Elapsed: 0:00:42.\n",
            "  Batch   280  of    320.    Elapsed: 0:00:49.\n",
            "\n",
            "  Average training loss: 0.69\n",
            "  Training epcoh took: 0:00:56\n",
            "\n",
            "Running Validation...\n",
            "  Accuracy: 0.73\n",
            "  Validation took: 0:00:03\n",
            "======== Epoch 4 / 4 ========\n",
            "  Batch    40  of    320.    Elapsed: 0:00:07.\n",
            "  Batch    80  of    320.    Elapsed: 0:00:14.\n",
            "  Batch   120  of    320.    Elapsed: 0:00:21.\n",
            "  Batch   160  of    320.    Elapsed: 0:00:28.\n",
            "  Batch   200  of    320.    Elapsed: 0:00:35.\n",
            "  Batch   240  of    320.    Elapsed: 0:00:42.\n",
            "  Batch   280  of    320.    Elapsed: 0:00:49.\n",
            "\n",
            "  Average training loss: 0.64\n",
            "  Training epcoh took: 0:00:56\n",
            "\n",
            "Running Validation...\n",
            "  Accuracy: 0.73\n",
            "  Validation took: 0:00:03\n"
          ],
          "name": "stdout"
        }
      ]
    },
    {
      "cell_type": "markdown",
      "metadata": {
        "id": "IJO-2gU6N2ty",
        "colab_type": "text"
      },
      "source": [
        "### We get a validation accuracy of **73% !**"
      ]
    },
    {
      "cell_type": "markdown",
      "metadata": {
        "id": "whBd5ZOT-ZxA",
        "colab_type": "text"
      },
      "source": [
        "# Predict on test set"
      ]
    },
    {
      "cell_type": "code",
      "metadata": {
        "id": "8n4uX0wMzzb5",
        "colab_type": "code",
        "colab": {
          "base_uri": "https://localhost:8080/",
          "height": 52
        },
        "outputId": "e9d695df-ed6a-41e2-acfb-040ffc838537"
      },
      "source": [
        "# Load the test dataset\n",
        "test_final = pd.DataFrame(data_dic[\"test\"])\n",
        "# We merge the test_final and text dataset on id\n",
        "test_final = pd.merge(test_final, text,on=[\"id\"])\n",
        "df = test_final\n",
        "\n",
        "# We check the number of sentences\n",
        "print('Number of test sentences: {:,}\\n'.format(df.shape[0]))\n",
        "\n",
        "# Create titles list\n",
        "titles_test = df.title.values\n",
        "#labels = df.label.values\n",
        "\n",
        "# Tokenize all of the sentences and map the tokens to thier word IDs.\n",
        "input_ids = []\n",
        "\n",
        "# For every sentence\n",
        "for t in titles_test:\n",
        "\n",
        "    encoded_sent = tokenizer.encode(\n",
        "                        t,                   \n",
        "                        add_special_tokens = True\n",
        "                   )\n",
        "    \n",
        "    input_ids.append(encoded_sent)\n",
        "\n",
        "# Pad our input tokens\n",
        "input_ids = pad_sequences(input_ids, maxlen=MAX_LEN, \n",
        "                          dtype=\"long\", truncating=\"post\", padding=\"post\")\n",
        "\n",
        "# Create attention masks\n",
        "attention_masks = []\n",
        "\n",
        "# Create a mask of 1s for each token followed by 0s for padding\n",
        "for seq in input_ids:\n",
        "  seq_mask = [float(i>0) for i in seq]\n",
        "  attention_masks.append(seq_mask) \n",
        "\n",
        "# Convert to tensors.\n",
        "prediction_inputs = torch.tensor(input_ids)\n",
        "prediction_masks = torch.tensor(attention_masks)\n",
        "prediction_labels = torch.tensor(labels)\n",
        "\n",
        "# Set the batch size.  \n",
        "batch_size = 32  \n",
        "\n",
        "# Create the DataLoader.\n",
        "#prediction_data = TensorDataset(prediction_inputs, prediction_masks, prediction_labels)\n",
        "prediction_data = TensorDataset(prediction_inputs, prediction_masks)\n",
        "prediction_sampler = SequentialSampler(prediction_data)\n",
        "prediction_dataloader = DataLoader(prediction_data, sampler=prediction_sampler, batch_size=batch_size)"
      ],
      "execution_count": null,
      "outputs": [
        {
          "output_type": "stream",
          "text": [
            "Number of test sentences: 12,782\n",
            "\n"
          ],
          "name": "stdout"
        }
      ]
    },
    {
      "cell_type": "markdown",
      "metadata": {
        "id": "FxA5FAnkDOb1",
        "colab_type": "text"
      },
      "source": [
        "# We generate the labels prediction for the test set"
      ]
    },
    {
      "cell_type": "code",
      "metadata": {
        "id": "OzsnFGWPDJG4",
        "colab_type": "code",
        "colab": {
          "base_uri": "https://localhost:8080/",
          "height": 52
        },
        "outputId": "3a63d6f0-39ad-455b-9bf0-9001903632bc"
      },
      "source": [
        "# Prediction on test set\n",
        "\n",
        "print('Predicting labels for {:,} test sentences...'.format(len(prediction_inputs)))\n",
        "\n",
        "# Put model in evaluation mode\n",
        "model.eval()\n",
        "\n",
        "# Tracking variables \n",
        "predictions = []\n",
        "\n",
        "# Predict \n",
        "for batch in prediction_dataloader:\n",
        "  batch = tuple(t.to(device) for t in batch)\n",
        "  \n",
        "  b_input_ids, b_input_mask = batch\n",
        "\n",
        "  \n",
        "  # Telling the model not to compute or store gradients, saving memory and speeding up prediction\n",
        "  with torch.no_grad():\n",
        "      # Forward pass, calculate logit predictions\n",
        "      outputs = model(b_input_ids, token_type_ids=None, \n",
        "                      attention_mask=b_input_mask)\n",
        "\n",
        "  logits = outputs[0]\n",
        "\n",
        "  # Move logits and labels to CPU\n",
        "  logits = logits.detach().cpu().numpy()\n",
        "  label_ids = b_labels.to('cpu').numpy()\n",
        "  \n",
        "  # Store predictions and true labels\n",
        "  predictions.append(logits)\n",
        "  \n",
        "print('    DONE.')"
      ],
      "execution_count": null,
      "outputs": [
        {
          "output_type": "stream",
          "text": [
            "Predicting labels for 12,782 test sentences...\n",
            "    DONE.\n"
          ],
          "name": "stdout"
        }
      ]
    },
    {
      "cell_type": "code",
      "metadata": {
        "id": "v0LLje7DE2nD",
        "colab_type": "code",
        "colab": {}
      },
      "source": [
        "# We get the predictions for each sentence \n",
        "predictions_test = []\n",
        "for i in range(len(predictions)):\n",
        "  pred_labels_i = np.argmax(predictions[i], axis=1).flatten()\n",
        "  predictions_test.append(pred_labels_i)"
      ],
      "execution_count": null,
      "outputs": []
    },
    {
      "cell_type": "code",
      "metadata": {
        "id": "MJXwU68oFKGM",
        "colab_type": "code",
        "colab": {}
      },
      "source": [
        "# We put the predictions into the format one column\n",
        "flat_list = []\n",
        "for sublist in predictions_test:\n",
        "    for item in sublist:\n",
        "        flat_list.append(item)"
      ],
      "execution_count": null,
      "outputs": []
    },
    {
      "cell_type": "code",
      "metadata": {
        "id": "V0oj4m5oFZEQ",
        "colab_type": "code",
        "colab": {}
      },
      "source": [
        "# We save the predicted labels in csv format\n",
        "np.savetxt(\"bert.csv\", flat_list, delimiter=\",\", fmt='%s')\n"
      ],
      "execution_count": null,
      "outputs": []
    },
    {
      "cell_type": "markdown",
      "metadata": {
        "id": "cK3LWTthFqqA",
        "colab_type": "text"
      },
      "source": [
        "# Graph Neural Networks with Stellargraph\n",
        "\n",
        "This code is based on Stellargraph official tutorial:\n",
        "https://github.com/stellargraph/stellargraph"
      ]
    },
    {
      "cell_type": "code",
      "metadata": {
        "id": "PQMAGxzHSRoq",
        "colab_type": "code",
        "colab": {
          "base_uri": "https://localhost:8080/",
          "height": 1000
        },
        "outputId": "1ca02f50-365f-48f4-c52c-568f236309d3"
      },
      "source": [
        "!pip install stellargraph\n",
        "import stellargraph as sg\n",
        "from stellargraph.data import UnsupervisedSampler\n",
        "from stellargraph.mapper import Attri2VecLinkGenerator, Attri2VecNodeGenerator\n",
        "from stellargraph.layer import Attri2Vec, link_classification\n",
        "\n",
        "\n",
        "import pandas as pd\n",
        "import os\n",
        "\n",
        "import stellargraph as sg\n",
        "from stellargraph.layer import GraphSAGE\n",
        "from stellargraph.mapper import GraphSAGENodeGenerator\n",
        "\n",
        "from stellargraph.layer import DirectedGraphSAGE\n",
        "\n",
        "from tensorflow.keras import layers, optimizers, losses, metrics, Model\n",
        "from sklearn import preprocessing, feature_extraction, model_selection\n",
        "from stellargraph import datasets\n",
        "from IPython.display import display, HTML\n",
        "import matplotlib.pyplot as plt\n",
        "\n",
        "\n",
        "!pip install nltk\n",
        "import nltk\n",
        "from nltk.corpus import stopwords\n",
        "from nltk.stem.snowball import SnowballStemmer\n",
        "nltk.download('stopwords')\n"
      ],
      "execution_count": null,
      "outputs": [
        {
          "output_type": "stream",
          "text": [
            "Requirement already satisfied: stellargraph in /usr/local/lib/python3.6/dist-packages (0.11.1)\n",
            "Requirement already satisfied: gensim>=3.4.0 in /usr/local/lib/python3.6/dist-packages (from stellargraph) (3.6.0)\n",
            "Requirement already satisfied: matplotlib>=2.2 in /usr/local/lib/python3.6/dist-packages (from stellargraph) (3.2.1)\n",
            "Requirement already satisfied: networkx>=2.2 in /usr/local/lib/python3.6/dist-packages (from stellargraph) (2.4)\n",
            "Requirement already satisfied: pandas>=0.24 in /usr/local/lib/python3.6/dist-packages (from stellargraph) (1.0.3)\n",
            "Requirement already satisfied: scikit-learn>=0.20 in /usr/local/lib/python3.6/dist-packages (from stellargraph) (0.22.2.post1)\n",
            "Requirement already satisfied: tensorflow>=2.1.0 in /usr/local/lib/python3.6/dist-packages (from stellargraph) (2.2.0rc2)\n",
            "Requirement already satisfied: scipy>=1.1.0 in /usr/local/lib/python3.6/dist-packages (from stellargraph) (1.4.1)\n",
            "Requirement already satisfied: numpy>=1.14 in /usr/local/lib/python3.6/dist-packages (from stellargraph) (1.18.2)\n",
            "Requirement already satisfied: six>=1.5.0 in /usr/local/lib/python3.6/dist-packages (from gensim>=3.4.0->stellargraph) (1.12.0)\n",
            "Requirement already satisfied: smart-open>=1.2.1 in /usr/local/lib/python3.6/dist-packages (from gensim>=3.4.0->stellargraph) (1.10.0)\n",
            "Requirement already satisfied: cycler>=0.10 in /usr/local/lib/python3.6/dist-packages (from matplotlib>=2.2->stellargraph) (0.10.0)\n",
            "Requirement already satisfied: kiwisolver>=1.0.1 in /usr/local/lib/python3.6/dist-packages (from matplotlib>=2.2->stellargraph) (1.2.0)\n",
            "Requirement already satisfied: python-dateutil>=2.1 in /usr/local/lib/python3.6/dist-packages (from matplotlib>=2.2->stellargraph) (2.8.1)\n",
            "Requirement already satisfied: pyparsing!=2.0.4,!=2.1.2,!=2.1.6,>=2.0.1 in /usr/local/lib/python3.6/dist-packages (from matplotlib>=2.2->stellargraph) (2.4.7)\n",
            "Requirement already satisfied: decorator>=4.3.0 in /usr/local/lib/python3.6/dist-packages (from networkx>=2.2->stellargraph) (4.4.2)\n",
            "Requirement already satisfied: pytz>=2017.2 in /usr/local/lib/python3.6/dist-packages (from pandas>=0.24->stellargraph) (2018.9)\n",
            "Requirement already satisfied: joblib>=0.11 in /usr/local/lib/python3.6/dist-packages (from scikit-learn>=0.20->stellargraph) (0.14.1)\n",
            "Requirement already satisfied: protobuf>=3.8.0 in /usr/local/lib/python3.6/dist-packages (from tensorflow>=2.1.0->stellargraph) (3.10.0)\n",
            "Requirement already satisfied: h5py<2.11.0,>=2.10.0 in /usr/local/lib/python3.6/dist-packages (from tensorflow>=2.1.0->stellargraph) (2.10.0)\n",
            "Requirement already satisfied: google-pasta>=0.1.8 in /usr/local/lib/python3.6/dist-packages (from tensorflow>=2.1.0->stellargraph) (0.2.0)\n",
            "Requirement already satisfied: opt-einsum>=2.3.2 in /usr/local/lib/python3.6/dist-packages (from tensorflow>=2.1.0->stellargraph) (3.2.0)\n",
            "Requirement already satisfied: tensorflow-estimator<2.3.0,>=2.2.0rc0 in /usr/local/lib/python3.6/dist-packages (from tensorflow>=2.1.0->stellargraph) (2.2.0rc0)\n",
            "Requirement already satisfied: absl-py>=0.7.0 in /usr/local/lib/python3.6/dist-packages (from tensorflow>=2.1.0->stellargraph) (0.9.0)\n",
            "Requirement already satisfied: wheel>=0.26; python_version >= \"3\" in /usr/local/lib/python3.6/dist-packages (from tensorflow>=2.1.0->stellargraph) (0.34.2)\n",
            "Requirement already satisfied: keras-preprocessing>=1.1.0 in /usr/local/lib/python3.6/dist-packages (from tensorflow>=2.1.0->stellargraph) (1.1.0)\n",
            "Requirement already satisfied: termcolor>=1.1.0 in /usr/local/lib/python3.6/dist-packages (from tensorflow>=2.1.0->stellargraph) (1.1.0)\n",
            "Requirement already satisfied: astunparse==1.6.3 in /usr/local/lib/python3.6/dist-packages (from tensorflow>=2.1.0->stellargraph) (1.6.3)\n",
            "Requirement already satisfied: grpcio>=1.8.6 in /usr/local/lib/python3.6/dist-packages (from tensorflow>=2.1.0->stellargraph) (1.28.1)\n",
            "Requirement already satisfied: gast==0.3.3 in /usr/local/lib/python3.6/dist-packages (from tensorflow>=2.1.0->stellargraph) (0.3.3)\n",
            "Requirement already satisfied: wrapt>=1.11.1 in /usr/local/lib/python3.6/dist-packages (from tensorflow>=2.1.0->stellargraph) (1.12.1)\n",
            "Requirement already satisfied: tensorboard<2.3.0,>=2.2.0 in /usr/local/lib/python3.6/dist-packages (from tensorflow>=2.1.0->stellargraph) (2.2.0)\n",
            "Requirement already satisfied: boto3 in /usr/local/lib/python3.6/dist-packages (from smart-open>=1.2.1->gensim>=3.4.0->stellargraph) (1.12.38)\n",
            "Requirement already satisfied: requests in /usr/local/lib/python3.6/dist-packages (from smart-open>=1.2.1->gensim>=3.4.0->stellargraph) (2.21.0)\n",
            "Requirement already satisfied: google-cloud-storage in /usr/local/lib/python3.6/dist-packages (from smart-open>=1.2.1->gensim>=3.4.0->stellargraph) (1.18.1)\n",
            "Requirement already satisfied: setuptools in /usr/local/lib/python3.6/dist-packages (from protobuf>=3.8.0->tensorflow>=2.1.0->stellargraph) (46.1.3)\n",
            "Requirement already satisfied: markdown>=2.6.8 in /usr/local/lib/python3.6/dist-packages (from tensorboard<2.3.0,>=2.2.0->tensorflow>=2.1.0->stellargraph) (3.2.1)\n",
            "Requirement already satisfied: google-auth<2,>=1.6.3 in /usr/local/lib/python3.6/dist-packages (from tensorboard<2.3.0,>=2.2.0->tensorflow>=2.1.0->stellargraph) (1.7.2)\n",
            "Requirement already satisfied: tensorboard-plugin-wit>=1.6.0 in /usr/local/lib/python3.6/dist-packages (from tensorboard<2.3.0,>=2.2.0->tensorflow>=2.1.0->stellargraph) (1.6.0.post3)\n",
            "Requirement already satisfied: werkzeug>=0.11.15 in /usr/local/lib/python3.6/dist-packages (from tensorboard<2.3.0,>=2.2.0->tensorflow>=2.1.0->stellargraph) (1.0.1)\n",
            "Requirement already satisfied: google-auth-oauthlib<0.5,>=0.4.1 in /usr/local/lib/python3.6/dist-packages (from tensorboard<2.3.0,>=2.2.0->tensorflow>=2.1.0->stellargraph) (0.4.1)\n",
            "Requirement already satisfied: s3transfer<0.4.0,>=0.3.0 in /usr/local/lib/python3.6/dist-packages (from boto3->smart-open>=1.2.1->gensim>=3.4.0->stellargraph) (0.3.3)\n",
            "Requirement already satisfied: botocore<1.16.0,>=1.15.38 in /usr/local/lib/python3.6/dist-packages (from boto3->smart-open>=1.2.1->gensim>=3.4.0->stellargraph) (1.15.38)\n",
            "Requirement already satisfied: jmespath<1.0.0,>=0.7.1 in /usr/local/lib/python3.6/dist-packages (from boto3->smart-open>=1.2.1->gensim>=3.4.0->stellargraph) (0.9.5)\n",
            "Requirement already satisfied: chardet<3.1.0,>=3.0.2 in /usr/local/lib/python3.6/dist-packages (from requests->smart-open>=1.2.1->gensim>=3.4.0->stellargraph) (3.0.4)\n",
            "Requirement already satisfied: idna<2.9,>=2.5 in /usr/local/lib/python3.6/dist-packages (from requests->smart-open>=1.2.1->gensim>=3.4.0->stellargraph) (2.8)\n",
            "Requirement already satisfied: urllib3<1.25,>=1.21.1 in /usr/local/lib/python3.6/dist-packages (from requests->smart-open>=1.2.1->gensim>=3.4.0->stellargraph) (1.24.3)\n",
            "Requirement already satisfied: certifi>=2017.4.17 in /usr/local/lib/python3.6/dist-packages (from requests->smart-open>=1.2.1->gensim>=3.4.0->stellargraph) (2020.4.5.1)\n",
            "Requirement already satisfied: google-resumable-media<0.5.0dev,>=0.3.1 in /usr/local/lib/python3.6/dist-packages (from google-cloud-storage->smart-open>=1.2.1->gensim>=3.4.0->stellargraph) (0.4.1)\n",
            "Requirement already satisfied: google-cloud-core<2.0dev,>=1.0.0 in /usr/local/lib/python3.6/dist-packages (from google-cloud-storage->smart-open>=1.2.1->gensim>=3.4.0->stellargraph) (1.0.3)\n",
            "Requirement already satisfied: rsa<4.1,>=3.1.4 in /usr/local/lib/python3.6/dist-packages (from google-auth<2,>=1.6.3->tensorboard<2.3.0,>=2.2.0->tensorflow>=2.1.0->stellargraph) (4.0)\n",
            "Requirement already satisfied: cachetools<3.2,>=2.0.0 in /usr/local/lib/python3.6/dist-packages (from google-auth<2,>=1.6.3->tensorboard<2.3.0,>=2.2.0->tensorflow>=2.1.0->stellargraph) (3.1.1)\n",
            "Requirement already satisfied: pyasn1-modules>=0.2.1 in /usr/local/lib/python3.6/dist-packages (from google-auth<2,>=1.6.3->tensorboard<2.3.0,>=2.2.0->tensorflow>=2.1.0->stellargraph) (0.2.8)\n",
            "Requirement already satisfied: requests-oauthlib>=0.7.0 in /usr/local/lib/python3.6/dist-packages (from google-auth-oauthlib<0.5,>=0.4.1->tensorboard<2.3.0,>=2.2.0->tensorflow>=2.1.0->stellargraph) (1.3.0)\n",
            "Requirement already satisfied: docutils<0.16,>=0.10 in /usr/local/lib/python3.6/dist-packages (from botocore<1.16.0,>=1.15.38->boto3->smart-open>=1.2.1->gensim>=3.4.0->stellargraph) (0.15.2)\n",
            "Requirement already satisfied: google-api-core<2.0.0dev,>=1.14.0 in /usr/local/lib/python3.6/dist-packages (from google-cloud-core<2.0dev,>=1.0.0->google-cloud-storage->smart-open>=1.2.1->gensim>=3.4.0->stellargraph) (1.16.0)\n",
            "Requirement already satisfied: pyasn1>=0.1.3 in /usr/local/lib/python3.6/dist-packages (from rsa<4.1,>=3.1.4->google-auth<2,>=1.6.3->tensorboard<2.3.0,>=2.2.0->tensorflow>=2.1.0->stellargraph) (0.4.8)\n",
            "Requirement already satisfied: oauthlib>=3.0.0 in /usr/local/lib/python3.6/dist-packages (from requests-oauthlib>=0.7.0->google-auth-oauthlib<0.5,>=0.4.1->tensorboard<2.3.0,>=2.2.0->tensorflow>=2.1.0->stellargraph) (3.1.0)\n",
            "Requirement already satisfied: googleapis-common-protos<2.0dev,>=1.6.0 in /usr/local/lib/python3.6/dist-packages (from google-api-core<2.0.0dev,>=1.14.0->google-cloud-core<2.0dev,>=1.0.0->google-cloud-storage->smart-open>=1.2.1->gensim>=3.4.0->stellargraph) (1.51.0)\n",
            "Requirement already satisfied: nltk in /usr/local/lib/python3.6/dist-packages (3.2.5)\n",
            "Requirement already satisfied: six in /usr/local/lib/python3.6/dist-packages (from nltk) (1.12.0)\n",
            "[nltk_data] Downloading package stopwords to /root/nltk_data...\n",
            "[nltk_data]   Package stopwords is already up-to-date!\n"
          ],
          "name": "stdout"
        },
        {
          "output_type": "execute_result",
          "data": {
            "text/plain": [
              "True"
            ]
          },
          "metadata": {
            "tags": []
          },
          "execution_count": 27
        }
      ]
    },
    {
      "cell_type": "code",
      "metadata": {
        "id": "_zfvdudSEjgu",
        "colab_type": "code",
        "colab": {
          "base_uri": "https://localhost:8080/",
          "height": 200
        },
        "outputId": "3691e5fd-72b4-44d6-c05f-6b12cb0081fd"
      },
      "source": [
        "# We first create the edge list data_frame from our reference dataset.\n",
        "data_dic[\"reference\"] = data_dic[\"reference\"].rename_axis(\"id.0\").reset_index()\n",
        "edgelist = data_dic[\"reference\"].rename(columns={'id.0':'target', 'id.1':'source'})\n",
        "edgelist.head() "
      ],
      "execution_count": null,
      "outputs": [
        {
          "output_type": "execute_result",
          "data": {
            "text/html": [
              "<div>\n",
              "<style scoped>\n",
              "    .dataframe tbody tr th:only-of-type {\n",
              "        vertical-align: middle;\n",
              "    }\n",
              "\n",
              "    .dataframe tbody tr th {\n",
              "        vertical-align: top;\n",
              "    }\n",
              "\n",
              "    .dataframe thead th {\n",
              "        text-align: right;\n",
              "    }\n",
              "</style>\n",
              "<table border=\"1\" class=\"dataframe\">\n",
              "  <thead>\n",
              "    <tr style=\"text-align: right;\">\n",
              "      <th></th>\n",
              "      <th>target</th>\n",
              "      <th>source</th>\n",
              "    </tr>\n",
              "  </thead>\n",
              "  <tbody>\n",
              "    <tr>\n",
              "      <th>0</th>\n",
              "      <td>0</td>\n",
              "      <td>22305</td>\n",
              "    </tr>\n",
              "    <tr>\n",
              "      <th>1</th>\n",
              "      <td>0</td>\n",
              "      <td>22491</td>\n",
              "    </tr>\n",
              "    <tr>\n",
              "      <th>2</th>\n",
              "      <td>1</td>\n",
              "      <td>9243</td>\n",
              "    </tr>\n",
              "    <tr>\n",
              "      <th>3</th>\n",
              "      <td>1</td>\n",
              "      <td>10943</td>\n",
              "    </tr>\n",
              "    <tr>\n",
              "      <th>4</th>\n",
              "      <td>1</td>\n",
              "      <td>14322</td>\n",
              "    </tr>\n",
              "  </tbody>\n",
              "</table>\n",
              "</div>"
            ],
            "text/plain": [
              "   target  source\n",
              "0       0   22305\n",
              "1       0   22491\n",
              "2       1    9243\n",
              "3       1   10943\n",
              "4       1   14322"
            ]
          },
          "metadata": {
            "tags": []
          },
          "execution_count": 28
        }
      ]
    },
    {
      "cell_type": "markdown",
      "metadata": {
        "id": "oyPdf-T7SZOW",
        "colab_type": "text"
      },
      "source": [
        "# Stemmer and removing stopwords"
      ]
    },
    {
      "cell_type": "code",
      "metadata": {
        "id": "a-feGBNzFNiq",
        "colab_type": "code",
        "colab": {}
      },
      "source": [
        "# We will remove englishs stopwords and will use a stemmer in order to try remove some \"noise\" in the data\n",
        "# and to reduce the size of our matrix\n",
        "\n",
        "stop = stopwords.words('english')\n",
        "stemmer = SnowballStemmer('english')"
      ],
      "execution_count": null,
      "outputs": []
    },
    {
      "cell_type": "code",
      "metadata": {
        "id": "78mhYriAFdpm",
        "colab_type": "code",
        "colab": {
          "base_uri": "https://localhost:8080/",
          "height": 424
        },
        "outputId": "7fafef68-4b28-446c-a533-ba17c74fe3d2"
      },
      "source": [
        "# We add to our dictionnary our graph that combines both train and test data.\n",
        "data_dic[\"graph\"] = data_dic[\"train\"].append(data_dic[\"test\"], sort=True).drop(labels = \"label\", axis=1)\n",
        "data_dic[\"graph\"]"
      ],
      "execution_count": null,
      "outputs": [
        {
          "output_type": "execute_result",
          "data": {
            "text/html": [
              "<div>\n",
              "<style scoped>\n",
              "    .dataframe tbody tr th:only-of-type {\n",
              "        vertical-align: middle;\n",
              "    }\n",
              "\n",
              "    .dataframe tbody tr th {\n",
              "        vertical-align: top;\n",
              "    }\n",
              "\n",
              "    .dataframe thead th {\n",
              "        text-align: right;\n",
              "    }\n",
              "</style>\n",
              "<table border=\"1\" class=\"dataframe\">\n",
              "  <thead>\n",
              "    <tr style=\"text-align: right;\">\n",
              "      <th></th>\n",
              "    </tr>\n",
              "    <tr>\n",
              "      <th>id</th>\n",
              "    </tr>\n",
              "  </thead>\n",
              "  <tbody>\n",
              "    <tr>\n",
              "      <th>0</th>\n",
              "    </tr>\n",
              "    <tr>\n",
              "      <th>3</th>\n",
              "    </tr>\n",
              "    <tr>\n",
              "      <th>6</th>\n",
              "    </tr>\n",
              "    <tr>\n",
              "      <th>8</th>\n",
              "    </tr>\n",
              "    <tr>\n",
              "      <th>9</th>\n",
              "    </tr>\n",
              "    <tr>\n",
              "      <th>...</th>\n",
              "    </tr>\n",
              "    <tr>\n",
              "      <th>25553</th>\n",
              "    </tr>\n",
              "    <tr>\n",
              "      <th>25556</th>\n",
              "    </tr>\n",
              "    <tr>\n",
              "      <th>25558</th>\n",
              "    </tr>\n",
              "    <tr>\n",
              "      <th>25559</th>\n",
              "    </tr>\n",
              "    <tr>\n",
              "      <th>25560</th>\n",
              "    </tr>\n",
              "  </tbody>\n",
              "</table>\n",
              "<p>25561 rows × 0 columns</p>\n",
              "</div>"
            ],
            "text/plain": [
              "Empty DataFrame\n",
              "Columns: []\n",
              "Index: [0, 3, 6, 8, 9, 11, 13, 18, 20, 24, 30, 31, 32, 33, 36, 38, 40, 41, 43, 44, 46, 48, 53, 54, 55, 56, 58, 59, 62, 68, 69, 71, 75, 77, 78, 79, 81, 82, 86, 87, 90, 91, 92, 93, 94, 95, 97, 98, 99, 101, 103, 106, 107, 108, 110, 112, 113, 114, 115, 116, 119, 120, 122, 123, 132, 133, 134, 137, 140, 141, 142, 144, 145, 146, 147, 152, 153, 155, 156, 159, 162, 167, 169, 170, 172, 173, 174, 177, 178, 180, 185, 188, 189, 190, 194, 195, 196, 197, 198, 199, ...]\n",
              "\n",
              "[25561 rows x 0 columns]"
            ]
          },
          "metadata": {
            "tags": []
          },
          "execution_count": 30
        }
      ]
    },
    {
      "cell_type": "code",
      "metadata": {
        "id": "ir4T6SRgRJSw",
        "colab_type": "code",
        "colab": {}
      },
      "source": [
        "# We add to our graph DataFrame the correspind title from the text dataset to each id of the graph dataset\n",
        "test = pd.merge(data_dic[\"graph\"], data_dic[\"text\"], on=\"id\")"
      ],
      "execution_count": null,
      "outputs": []
    },
    {
      "cell_type": "code",
      "metadata": {
        "id": "pce5r1FWZMTC",
        "colab_type": "code",
        "colab": {}
      },
      "source": [
        "# We create a column with no stopwords and no stemmer\n",
        "test[\"title_clean_stopwords\"] = test[\"title\"].apply(lambda x: ' '.join([word for word in x.split() if word not in (stop)]))\n",
        "test[\"title_clean_stopwords_stemmer\"] = test[\"title_clean_stopwords\"].apply(lambda x: ' '.join([stemmer.stem(word) for word in x.split() ]))"
      ],
      "execution_count": null,
      "outputs": []
    },
    {
      "cell_type": "code",
      "metadata": {
        "id": "Gw2PCTg0WKc-",
        "colab_type": "code",
        "colab": {
          "base_uri": "https://localhost:8080/",
          "height": 230
        },
        "outputId": "5d6e45e6-4e10-42fa-b183-09827fe170fa"
      },
      "source": [
        "test.head()"
      ],
      "execution_count": null,
      "outputs": [
        {
          "output_type": "execute_result",
          "data": {
            "text/html": [
              "<div>\n",
              "<style scoped>\n",
              "    .dataframe tbody tr th:only-of-type {\n",
              "        vertical-align: middle;\n",
              "    }\n",
              "\n",
              "    .dataframe tbody tr th {\n",
              "        vertical-align: top;\n",
              "    }\n",
              "\n",
              "    .dataframe thead th {\n",
              "        text-align: right;\n",
              "    }\n",
              "</style>\n",
              "<table border=\"1\" class=\"dataframe\">\n",
              "  <thead>\n",
              "    <tr style=\"text-align: right;\">\n",
              "      <th></th>\n",
              "      <th>title</th>\n",
              "      <th>title_clean_stopwords</th>\n",
              "      <th>title_clean_stopwords_stemmer</th>\n",
              "    </tr>\n",
              "    <tr>\n",
              "      <th>id</th>\n",
              "      <th></th>\n",
              "      <th></th>\n",
              "      <th></th>\n",
              "    </tr>\n",
              "  </thead>\n",
              "  <tbody>\n",
              "    <tr>\n",
              "      <th>0</th>\n",
              "      <td>interactive visual exploration of neighbor bas...</td>\n",
              "      <td>interactive visual exploration neighbor based ...</td>\n",
              "      <td>interact visual explor neighbor base pattern d...</td>\n",
              "    </tr>\n",
              "    <tr>\n",
              "      <th>3</th>\n",
              "      <td>relational division four algorithms and their ...</td>\n",
              "      <td>relational division four algorithms performance</td>\n",
              "      <td>relat divis four algorithm perform</td>\n",
              "    </tr>\n",
              "    <tr>\n",
              "      <th>6</th>\n",
              "      <td>simplifying xml schema effortless handling of ...</td>\n",
              "      <td>simplifying xml schema effortless handling non...</td>\n",
              "      <td>simplifi xml schema effortless handl nondeterm...</td>\n",
              "    </tr>\n",
              "    <tr>\n",
              "      <th>8</th>\n",
              "      <td>funbase a function based information managemen...</td>\n",
              "      <td>funbase function based information management ...</td>\n",
              "      <td>funbas function base inform manag system</td>\n",
              "    </tr>\n",
              "    <tr>\n",
              "      <th>9</th>\n",
              "      <td>inverted matrix efficient discovery of frequen...</td>\n",
              "      <td>inverted matrix efficient discovery frequent i...</td>\n",
              "      <td>invert matrix effici discoveri frequent item l...</td>\n",
              "    </tr>\n",
              "  </tbody>\n",
              "</table>\n",
              "</div>"
            ],
            "text/plain": [
              "                                                title  ...                      title_clean_stopwords_stemmer\n",
              "id                                                     ...                                                   \n",
              "0   interactive visual exploration of neighbor bas...  ...  interact visual explor neighbor base pattern d...\n",
              "3   relational division four algorithms and their ...  ...                 relat divis four algorithm perform\n",
              "6   simplifying xml schema effortless handling of ...  ...  simplifi xml schema effortless handl nondeterm...\n",
              "8   funbase a function based information managemen...  ...           funbas function base inform manag system\n",
              "9   inverted matrix efficient discovery of frequen...  ...  invert matrix effici discoveri frequent item l...\n",
              "\n",
              "[5 rows x 3 columns]"
            ]
          },
          "metadata": {
            "tags": []
          },
          "execution_count": 33
        }
      ]
    },
    {
      "cell_type": "code",
      "metadata": {
        "id": "gYOENzLKZTcL",
        "colab_type": "code",
        "colab": {}
      },
      "source": [
        "# We use the scikit-learn function CountVectorizer to convert the titles to a matrix of token counts\n",
        "from sklearn.feature_extraction.text import CountVectorizer\n",
        "\n",
        "vectorizer = CountVectorizer()\n",
        "test[\"sentence_vectors\"]  = vectorizer.fit_transform(test[\"title_clean_stopwords_stemmer\"])"
      ],
      "execution_count": null,
      "outputs": []
    },
    {
      "cell_type": "code",
      "metadata": {
        "id": "6J7xhxwOWRi8",
        "colab_type": "code",
        "colab": {
          "base_uri": "https://localhost:8080/",
          "height": 230
        },
        "outputId": "4da12cf0-7326-4956-c64d-2bf760e0ed30"
      },
      "source": [
        "test.head()"
      ],
      "execution_count": null,
      "outputs": [
        {
          "output_type": "execute_result",
          "data": {
            "text/html": [
              "<div>\n",
              "<style scoped>\n",
              "    .dataframe tbody tr th:only-of-type {\n",
              "        vertical-align: middle;\n",
              "    }\n",
              "\n",
              "    .dataframe tbody tr th {\n",
              "        vertical-align: top;\n",
              "    }\n",
              "\n",
              "    .dataframe thead th {\n",
              "        text-align: right;\n",
              "    }\n",
              "</style>\n",
              "<table border=\"1\" class=\"dataframe\">\n",
              "  <thead>\n",
              "    <tr style=\"text-align: right;\">\n",
              "      <th></th>\n",
              "      <th>title</th>\n",
              "      <th>title_clean_stopwords</th>\n",
              "      <th>title_clean_stopwords_stemmer</th>\n",
              "      <th>sentence_vectors</th>\n",
              "    </tr>\n",
              "    <tr>\n",
              "      <th>id</th>\n",
              "      <th></th>\n",
              "      <th></th>\n",
              "      <th></th>\n",
              "      <th></th>\n",
              "    </tr>\n",
              "  </thead>\n",
              "  <tbody>\n",
              "    <tr>\n",
              "      <th>0</th>\n",
              "      <td>interactive visual exploration of neighbor bas...</td>\n",
              "      <td>interactive visual exploration neighbor based ...</td>\n",
              "      <td>interact visual explor neighbor base pattern d...</td>\n",
              "      <td>(0, 3926)\\t1\\n  (0, 8731)\\t1\\n  (0, 2762)\\t1...</td>\n",
              "    </tr>\n",
              "    <tr>\n",
              "      <th>3</th>\n",
              "      <td>relational division four algorithms and their ...</td>\n",
              "      <td>relational division four algorithms performance</td>\n",
              "      <td>relat divis four algorithm perform</td>\n",
              "      <td>(0, 3926)\\t1\\n  (0, 8731)\\t1\\n  (0, 2762)\\t1...</td>\n",
              "    </tr>\n",
              "    <tr>\n",
              "      <th>6</th>\n",
              "      <td>simplifying xml schema effortless handling of ...</td>\n",
              "      <td>simplifying xml schema effortless handling non...</td>\n",
              "      <td>simplifi xml schema effortless handl nondeterm...</td>\n",
              "      <td>(0, 3926)\\t1\\n  (0, 8731)\\t1\\n  (0, 2762)\\t1...</td>\n",
              "    </tr>\n",
              "    <tr>\n",
              "      <th>8</th>\n",
              "      <td>funbase a function based information managemen...</td>\n",
              "      <td>funbase function based information management ...</td>\n",
              "      <td>funbas function base inform manag system</td>\n",
              "      <td>(0, 3926)\\t1\\n  (0, 8731)\\t1\\n  (0, 2762)\\t1...</td>\n",
              "    </tr>\n",
              "    <tr>\n",
              "      <th>9</th>\n",
              "      <td>inverted matrix efficient discovery of frequen...</td>\n",
              "      <td>inverted matrix efficient discovery frequent i...</td>\n",
              "      <td>invert matrix effici discoveri frequent item l...</td>\n",
              "      <td>(0, 3926)\\t1\\n  (0, 8731)\\t1\\n  (0, 2762)\\t1...</td>\n",
              "    </tr>\n",
              "  </tbody>\n",
              "</table>\n",
              "</div>"
            ],
            "text/plain": [
              "                                                title  ...                                   sentence_vectors\n",
              "id                                                     ...                                                   \n",
              "0   interactive visual exploration of neighbor bas...  ...    (0, 3926)\\t1\\n  (0, 8731)\\t1\\n  (0, 2762)\\t1...\n",
              "3   relational division four algorithms and their ...  ...    (0, 3926)\\t1\\n  (0, 8731)\\t1\\n  (0, 2762)\\t1...\n",
              "6   simplifying xml schema effortless handling of ...  ...    (0, 3926)\\t1\\n  (0, 8731)\\t1\\n  (0, 2762)\\t1...\n",
              "8   funbase a function based information managemen...  ...    (0, 3926)\\t1\\n  (0, 8731)\\t1\\n  (0, 2762)\\t1...\n",
              "9   inverted matrix efficient discovery of frequen...  ...    (0, 3926)\\t1\\n  (0, 8731)\\t1\\n  (0, 2762)\\t1...\n",
              "\n",
              "[5 rows x 4 columns]"
            ]
          },
          "metadata": {
            "tags": []
          },
          "execution_count": 35
        }
      ]
    },
    {
      "cell_type": "markdown",
      "metadata": {
        "id": "Wm82Wl1_XLa4",
        "colab_type": "text"
      },
      "source": [
        "# Tokenization"
      ]
    },
    {
      "cell_type": "code",
      "metadata": {
        "id": "TWJHQ4ptZVgX",
        "colab_type": "code",
        "colab": {}
      },
      "source": [
        "# We tokenize each sentence with the keras function Tokenizer\n",
        "from keras.preprocessing.text import Tokenizer\n",
        "\n",
        "tokenizer_inputs = Tokenizer()\n",
        "tokenizer_inputs.fit_on_texts(test[\"title_clean_stopwords_stemmer\"])\n",
        "test[\"sequence\"] = tokenizer_inputs.texts_to_sequences(test[\"title_clean_stopwords_stemmer\"])\n",
        "feature_names = [\"w_{}\".format(ii) for ii in range(9155)]"
      ],
      "execution_count": null,
      "outputs": []
    },
    {
      "cell_type": "code",
      "metadata": {
        "id": "K6aQXSljZYJ4",
        "colab_type": "code",
        "colab": {}
      },
      "source": [
        "# We create the node data DataFrame according to Stellargraph tutorial\n",
        "# For each title id, we count the number of times that a word is present in the title and we create a matrix.\n",
        "node_data = pd.DataFrame(tokenizer_inputs.texts_to_matrix(test[\"title_clean_stopwords_stemmer\"], mode='count'),\n",
        "                                 dtype=int,columns=feature_names,\n",
        "                                 index=test.index)"
      ],
      "execution_count": null,
      "outputs": []
    },
    {
      "cell_type": "code",
      "metadata": {
        "id": "4q12DHcdZbn_",
        "colab_type": "code",
        "colab": {
          "base_uri": "https://localhost:8080/",
          "height": 279
        },
        "outputId": "4b48c5ab-a927-41c5-b2d2-d1d4db9e37a9"
      },
      "source": [
        "node_data.head()"
      ],
      "execution_count": null,
      "outputs": [
        {
          "output_type": "execute_result",
          "data": {
            "text/html": [
              "<div>\n",
              "<style scoped>\n",
              "    .dataframe tbody tr th:only-of-type {\n",
              "        vertical-align: middle;\n",
              "    }\n",
              "\n",
              "    .dataframe tbody tr th {\n",
              "        vertical-align: top;\n",
              "    }\n",
              "\n",
              "    .dataframe thead th {\n",
              "        text-align: right;\n",
              "    }\n",
              "</style>\n",
              "<table border=\"1\" class=\"dataframe\">\n",
              "  <thead>\n",
              "    <tr style=\"text-align: right;\">\n",
              "      <th></th>\n",
              "      <th>w_0</th>\n",
              "      <th>w_1</th>\n",
              "      <th>w_2</th>\n",
              "      <th>w_3</th>\n",
              "      <th>w_4</th>\n",
              "      <th>w_5</th>\n",
              "      <th>w_6</th>\n",
              "      <th>w_7</th>\n",
              "      <th>w_8</th>\n",
              "      <th>w_9</th>\n",
              "      <th>w_10</th>\n",
              "      <th>w_11</th>\n",
              "      <th>w_12</th>\n",
              "      <th>w_13</th>\n",
              "      <th>w_14</th>\n",
              "      <th>w_15</th>\n",
              "      <th>w_16</th>\n",
              "      <th>w_17</th>\n",
              "      <th>w_18</th>\n",
              "      <th>w_19</th>\n",
              "      <th>w_20</th>\n",
              "      <th>w_21</th>\n",
              "      <th>w_22</th>\n",
              "      <th>w_23</th>\n",
              "      <th>w_24</th>\n",
              "      <th>w_25</th>\n",
              "      <th>w_26</th>\n",
              "      <th>w_27</th>\n",
              "      <th>w_28</th>\n",
              "      <th>w_29</th>\n",
              "      <th>w_30</th>\n",
              "      <th>w_31</th>\n",
              "      <th>w_32</th>\n",
              "      <th>w_33</th>\n",
              "      <th>w_34</th>\n",
              "      <th>w_35</th>\n",
              "      <th>w_36</th>\n",
              "      <th>w_37</th>\n",
              "      <th>w_38</th>\n",
              "      <th>w_39</th>\n",
              "      <th>...</th>\n",
              "      <th>w_9115</th>\n",
              "      <th>w_9116</th>\n",
              "      <th>w_9117</th>\n",
              "      <th>w_9118</th>\n",
              "      <th>w_9119</th>\n",
              "      <th>w_9120</th>\n",
              "      <th>w_9121</th>\n",
              "      <th>w_9122</th>\n",
              "      <th>w_9123</th>\n",
              "      <th>w_9124</th>\n",
              "      <th>w_9125</th>\n",
              "      <th>w_9126</th>\n",
              "      <th>w_9127</th>\n",
              "      <th>w_9128</th>\n",
              "      <th>w_9129</th>\n",
              "      <th>w_9130</th>\n",
              "      <th>w_9131</th>\n",
              "      <th>w_9132</th>\n",
              "      <th>w_9133</th>\n",
              "      <th>w_9134</th>\n",
              "      <th>w_9135</th>\n",
              "      <th>w_9136</th>\n",
              "      <th>w_9137</th>\n",
              "      <th>w_9138</th>\n",
              "      <th>w_9139</th>\n",
              "      <th>w_9140</th>\n",
              "      <th>w_9141</th>\n",
              "      <th>w_9142</th>\n",
              "      <th>w_9143</th>\n",
              "      <th>w_9144</th>\n",
              "      <th>w_9145</th>\n",
              "      <th>w_9146</th>\n",
              "      <th>w_9147</th>\n",
              "      <th>w_9148</th>\n",
              "      <th>w_9149</th>\n",
              "      <th>w_9150</th>\n",
              "      <th>w_9151</th>\n",
              "      <th>w_9152</th>\n",
              "      <th>w_9153</th>\n",
              "      <th>w_9154</th>\n",
              "    </tr>\n",
              "    <tr>\n",
              "      <th>id</th>\n",
              "      <th></th>\n",
              "      <th></th>\n",
              "      <th></th>\n",
              "      <th></th>\n",
              "      <th></th>\n",
              "      <th></th>\n",
              "      <th></th>\n",
              "      <th></th>\n",
              "      <th></th>\n",
              "      <th></th>\n",
              "      <th></th>\n",
              "      <th></th>\n",
              "      <th></th>\n",
              "      <th></th>\n",
              "      <th></th>\n",
              "      <th></th>\n",
              "      <th></th>\n",
              "      <th></th>\n",
              "      <th></th>\n",
              "      <th></th>\n",
              "      <th></th>\n",
              "      <th></th>\n",
              "      <th></th>\n",
              "      <th></th>\n",
              "      <th></th>\n",
              "      <th></th>\n",
              "      <th></th>\n",
              "      <th></th>\n",
              "      <th></th>\n",
              "      <th></th>\n",
              "      <th></th>\n",
              "      <th></th>\n",
              "      <th></th>\n",
              "      <th></th>\n",
              "      <th></th>\n",
              "      <th></th>\n",
              "      <th></th>\n",
              "      <th></th>\n",
              "      <th></th>\n",
              "      <th></th>\n",
              "      <th></th>\n",
              "      <th></th>\n",
              "      <th></th>\n",
              "      <th></th>\n",
              "      <th></th>\n",
              "      <th></th>\n",
              "      <th></th>\n",
              "      <th></th>\n",
              "      <th></th>\n",
              "      <th></th>\n",
              "      <th></th>\n",
              "      <th></th>\n",
              "      <th></th>\n",
              "      <th></th>\n",
              "      <th></th>\n",
              "      <th></th>\n",
              "      <th></th>\n",
              "      <th></th>\n",
              "      <th></th>\n",
              "      <th></th>\n",
              "      <th></th>\n",
              "      <th></th>\n",
              "      <th></th>\n",
              "      <th></th>\n",
              "      <th></th>\n",
              "      <th></th>\n",
              "      <th></th>\n",
              "      <th></th>\n",
              "      <th></th>\n",
              "      <th></th>\n",
              "      <th></th>\n",
              "      <th></th>\n",
              "      <th></th>\n",
              "      <th></th>\n",
              "      <th></th>\n",
              "      <th></th>\n",
              "      <th></th>\n",
              "      <th></th>\n",
              "      <th></th>\n",
              "      <th></th>\n",
              "      <th></th>\n",
              "    </tr>\n",
              "  </thead>\n",
              "  <tbody>\n",
              "    <tr>\n",
              "      <th>0</th>\n",
              "      <td>0</td>\n",
              "      <td>1</td>\n",
              "      <td>0</td>\n",
              "      <td>1</td>\n",
              "      <td>0</td>\n",
              "      <td>0</td>\n",
              "      <td>0</td>\n",
              "      <td>0</td>\n",
              "      <td>0</td>\n",
              "      <td>0</td>\n",
              "      <td>0</td>\n",
              "      <td>0</td>\n",
              "      <td>0</td>\n",
              "      <td>0</td>\n",
              "      <td>0</td>\n",
              "      <td>0</td>\n",
              "      <td>0</td>\n",
              "      <td>0</td>\n",
              "      <td>0</td>\n",
              "      <td>0</td>\n",
              "      <td>0</td>\n",
              "      <td>0</td>\n",
              "      <td>0</td>\n",
              "      <td>0</td>\n",
              "      <td>0</td>\n",
              "      <td>0</td>\n",
              "      <td>0</td>\n",
              "      <td>0</td>\n",
              "      <td>0</td>\n",
              "      <td>0</td>\n",
              "      <td>0</td>\n",
              "      <td>0</td>\n",
              "      <td>0</td>\n",
              "      <td>0</td>\n",
              "      <td>0</td>\n",
              "      <td>0</td>\n",
              "      <td>0</td>\n",
              "      <td>0</td>\n",
              "      <td>0</td>\n",
              "      <td>0</td>\n",
              "      <td>...</td>\n",
              "      <td>0</td>\n",
              "      <td>0</td>\n",
              "      <td>0</td>\n",
              "      <td>0</td>\n",
              "      <td>0</td>\n",
              "      <td>0</td>\n",
              "      <td>0</td>\n",
              "      <td>0</td>\n",
              "      <td>0</td>\n",
              "      <td>0</td>\n",
              "      <td>0</td>\n",
              "      <td>0</td>\n",
              "      <td>0</td>\n",
              "      <td>0</td>\n",
              "      <td>0</td>\n",
              "      <td>0</td>\n",
              "      <td>0</td>\n",
              "      <td>0</td>\n",
              "      <td>0</td>\n",
              "      <td>0</td>\n",
              "      <td>0</td>\n",
              "      <td>0</td>\n",
              "      <td>0</td>\n",
              "      <td>0</td>\n",
              "      <td>0</td>\n",
              "      <td>0</td>\n",
              "      <td>0</td>\n",
              "      <td>0</td>\n",
              "      <td>0</td>\n",
              "      <td>0</td>\n",
              "      <td>0</td>\n",
              "      <td>0</td>\n",
              "      <td>0</td>\n",
              "      <td>0</td>\n",
              "      <td>0</td>\n",
              "      <td>0</td>\n",
              "      <td>0</td>\n",
              "      <td>0</td>\n",
              "      <td>0</td>\n",
              "      <td>0</td>\n",
              "    </tr>\n",
              "    <tr>\n",
              "      <th>3</th>\n",
              "      <td>0</td>\n",
              "      <td>0</td>\n",
              "      <td>0</td>\n",
              "      <td>0</td>\n",
              "      <td>0</td>\n",
              "      <td>0</td>\n",
              "      <td>0</td>\n",
              "      <td>0</td>\n",
              "      <td>0</td>\n",
              "      <td>0</td>\n",
              "      <td>0</td>\n",
              "      <td>0</td>\n",
              "      <td>0</td>\n",
              "      <td>0</td>\n",
              "      <td>0</td>\n",
              "      <td>0</td>\n",
              "      <td>0</td>\n",
              "      <td>0</td>\n",
              "      <td>0</td>\n",
              "      <td>0</td>\n",
              "      <td>0</td>\n",
              "      <td>1</td>\n",
              "      <td>0</td>\n",
              "      <td>0</td>\n",
              "      <td>1</td>\n",
              "      <td>0</td>\n",
              "      <td>0</td>\n",
              "      <td>0</td>\n",
              "      <td>0</td>\n",
              "      <td>0</td>\n",
              "      <td>0</td>\n",
              "      <td>0</td>\n",
              "      <td>0</td>\n",
              "      <td>0</td>\n",
              "      <td>0</td>\n",
              "      <td>0</td>\n",
              "      <td>0</td>\n",
              "      <td>0</td>\n",
              "      <td>0</td>\n",
              "      <td>0</td>\n",
              "      <td>...</td>\n",
              "      <td>0</td>\n",
              "      <td>0</td>\n",
              "      <td>0</td>\n",
              "      <td>0</td>\n",
              "      <td>0</td>\n",
              "      <td>0</td>\n",
              "      <td>0</td>\n",
              "      <td>0</td>\n",
              "      <td>0</td>\n",
              "      <td>0</td>\n",
              "      <td>0</td>\n",
              "      <td>0</td>\n",
              "      <td>0</td>\n",
              "      <td>0</td>\n",
              "      <td>0</td>\n",
              "      <td>0</td>\n",
              "      <td>0</td>\n",
              "      <td>0</td>\n",
              "      <td>0</td>\n",
              "      <td>0</td>\n",
              "      <td>0</td>\n",
              "      <td>0</td>\n",
              "      <td>0</td>\n",
              "      <td>0</td>\n",
              "      <td>0</td>\n",
              "      <td>0</td>\n",
              "      <td>0</td>\n",
              "      <td>0</td>\n",
              "      <td>0</td>\n",
              "      <td>0</td>\n",
              "      <td>0</td>\n",
              "      <td>0</td>\n",
              "      <td>0</td>\n",
              "      <td>0</td>\n",
              "      <td>0</td>\n",
              "      <td>0</td>\n",
              "      <td>0</td>\n",
              "      <td>0</td>\n",
              "      <td>0</td>\n",
              "      <td>0</td>\n",
              "    </tr>\n",
              "    <tr>\n",
              "      <th>6</th>\n",
              "      <td>0</td>\n",
              "      <td>0</td>\n",
              "      <td>0</td>\n",
              "      <td>0</td>\n",
              "      <td>0</td>\n",
              "      <td>0</td>\n",
              "      <td>0</td>\n",
              "      <td>0</td>\n",
              "      <td>0</td>\n",
              "      <td>0</td>\n",
              "      <td>0</td>\n",
              "      <td>0</td>\n",
              "      <td>0</td>\n",
              "      <td>0</td>\n",
              "      <td>0</td>\n",
              "      <td>0</td>\n",
              "      <td>0</td>\n",
              "      <td>0</td>\n",
              "      <td>0</td>\n",
              "      <td>0</td>\n",
              "      <td>0</td>\n",
              "      <td>0</td>\n",
              "      <td>0</td>\n",
              "      <td>0</td>\n",
              "      <td>0</td>\n",
              "      <td>0</td>\n",
              "      <td>0</td>\n",
              "      <td>0</td>\n",
              "      <td>0</td>\n",
              "      <td>0</td>\n",
              "      <td>0</td>\n",
              "      <td>0</td>\n",
              "      <td>0</td>\n",
              "      <td>0</td>\n",
              "      <td>0</td>\n",
              "      <td>0</td>\n",
              "      <td>0</td>\n",
              "      <td>0</td>\n",
              "      <td>0</td>\n",
              "      <td>0</td>\n",
              "      <td>...</td>\n",
              "      <td>0</td>\n",
              "      <td>0</td>\n",
              "      <td>0</td>\n",
              "      <td>0</td>\n",
              "      <td>0</td>\n",
              "      <td>0</td>\n",
              "      <td>0</td>\n",
              "      <td>0</td>\n",
              "      <td>0</td>\n",
              "      <td>0</td>\n",
              "      <td>0</td>\n",
              "      <td>0</td>\n",
              "      <td>0</td>\n",
              "      <td>0</td>\n",
              "      <td>0</td>\n",
              "      <td>0</td>\n",
              "      <td>0</td>\n",
              "      <td>0</td>\n",
              "      <td>0</td>\n",
              "      <td>0</td>\n",
              "      <td>0</td>\n",
              "      <td>0</td>\n",
              "      <td>0</td>\n",
              "      <td>0</td>\n",
              "      <td>0</td>\n",
              "      <td>0</td>\n",
              "      <td>0</td>\n",
              "      <td>0</td>\n",
              "      <td>0</td>\n",
              "      <td>0</td>\n",
              "      <td>0</td>\n",
              "      <td>0</td>\n",
              "      <td>0</td>\n",
              "      <td>0</td>\n",
              "      <td>0</td>\n",
              "      <td>0</td>\n",
              "      <td>0</td>\n",
              "      <td>0</td>\n",
              "      <td>0</td>\n",
              "      <td>0</td>\n",
              "    </tr>\n",
              "    <tr>\n",
              "      <th>8</th>\n",
              "      <td>0</td>\n",
              "      <td>1</td>\n",
              "      <td>1</td>\n",
              "      <td>0</td>\n",
              "      <td>0</td>\n",
              "      <td>0</td>\n",
              "      <td>0</td>\n",
              "      <td>0</td>\n",
              "      <td>0</td>\n",
              "      <td>0</td>\n",
              "      <td>1</td>\n",
              "      <td>0</td>\n",
              "      <td>0</td>\n",
              "      <td>0</td>\n",
              "      <td>0</td>\n",
              "      <td>0</td>\n",
              "      <td>0</td>\n",
              "      <td>0</td>\n",
              "      <td>0</td>\n",
              "      <td>0</td>\n",
              "      <td>0</td>\n",
              "      <td>0</td>\n",
              "      <td>0</td>\n",
              "      <td>0</td>\n",
              "      <td>0</td>\n",
              "      <td>0</td>\n",
              "      <td>0</td>\n",
              "      <td>0</td>\n",
              "      <td>0</td>\n",
              "      <td>0</td>\n",
              "      <td>0</td>\n",
              "      <td>0</td>\n",
              "      <td>0</td>\n",
              "      <td>0</td>\n",
              "      <td>0</td>\n",
              "      <td>0</td>\n",
              "      <td>1</td>\n",
              "      <td>0</td>\n",
              "      <td>0</td>\n",
              "      <td>0</td>\n",
              "      <td>...</td>\n",
              "      <td>0</td>\n",
              "      <td>0</td>\n",
              "      <td>0</td>\n",
              "      <td>0</td>\n",
              "      <td>0</td>\n",
              "      <td>0</td>\n",
              "      <td>0</td>\n",
              "      <td>0</td>\n",
              "      <td>0</td>\n",
              "      <td>0</td>\n",
              "      <td>0</td>\n",
              "      <td>0</td>\n",
              "      <td>0</td>\n",
              "      <td>0</td>\n",
              "      <td>0</td>\n",
              "      <td>0</td>\n",
              "      <td>0</td>\n",
              "      <td>0</td>\n",
              "      <td>0</td>\n",
              "      <td>0</td>\n",
              "      <td>0</td>\n",
              "      <td>0</td>\n",
              "      <td>0</td>\n",
              "      <td>0</td>\n",
              "      <td>0</td>\n",
              "      <td>0</td>\n",
              "      <td>0</td>\n",
              "      <td>0</td>\n",
              "      <td>0</td>\n",
              "      <td>0</td>\n",
              "      <td>0</td>\n",
              "      <td>0</td>\n",
              "      <td>0</td>\n",
              "      <td>0</td>\n",
              "      <td>0</td>\n",
              "      <td>0</td>\n",
              "      <td>0</td>\n",
              "      <td>0</td>\n",
              "      <td>0</td>\n",
              "      <td>0</td>\n",
              "    </tr>\n",
              "    <tr>\n",
              "      <th>9</th>\n",
              "      <td>0</td>\n",
              "      <td>0</td>\n",
              "      <td>0</td>\n",
              "      <td>0</td>\n",
              "      <td>0</td>\n",
              "      <td>0</td>\n",
              "      <td>0</td>\n",
              "      <td>0</td>\n",
              "      <td>0</td>\n",
              "      <td>0</td>\n",
              "      <td>0</td>\n",
              "      <td>0</td>\n",
              "      <td>0</td>\n",
              "      <td>0</td>\n",
              "      <td>0</td>\n",
              "      <td>0</td>\n",
              "      <td>0</td>\n",
              "      <td>0</td>\n",
              "      <td>0</td>\n",
              "      <td>0</td>\n",
              "      <td>0</td>\n",
              "      <td>0</td>\n",
              "      <td>1</td>\n",
              "      <td>0</td>\n",
              "      <td>0</td>\n",
              "      <td>0</td>\n",
              "      <td>0</td>\n",
              "      <td>0</td>\n",
              "      <td>0</td>\n",
              "      <td>0</td>\n",
              "      <td>0</td>\n",
              "      <td>0</td>\n",
              "      <td>0</td>\n",
              "      <td>0</td>\n",
              "      <td>0</td>\n",
              "      <td>1</td>\n",
              "      <td>0</td>\n",
              "      <td>0</td>\n",
              "      <td>0</td>\n",
              "      <td>0</td>\n",
              "      <td>...</td>\n",
              "      <td>0</td>\n",
              "      <td>0</td>\n",
              "      <td>0</td>\n",
              "      <td>0</td>\n",
              "      <td>0</td>\n",
              "      <td>0</td>\n",
              "      <td>0</td>\n",
              "      <td>0</td>\n",
              "      <td>0</td>\n",
              "      <td>0</td>\n",
              "      <td>0</td>\n",
              "      <td>0</td>\n",
              "      <td>0</td>\n",
              "      <td>0</td>\n",
              "      <td>0</td>\n",
              "      <td>0</td>\n",
              "      <td>0</td>\n",
              "      <td>0</td>\n",
              "      <td>0</td>\n",
              "      <td>0</td>\n",
              "      <td>0</td>\n",
              "      <td>0</td>\n",
              "      <td>0</td>\n",
              "      <td>0</td>\n",
              "      <td>0</td>\n",
              "      <td>0</td>\n",
              "      <td>0</td>\n",
              "      <td>0</td>\n",
              "      <td>0</td>\n",
              "      <td>0</td>\n",
              "      <td>0</td>\n",
              "      <td>0</td>\n",
              "      <td>0</td>\n",
              "      <td>0</td>\n",
              "      <td>0</td>\n",
              "      <td>0</td>\n",
              "      <td>0</td>\n",
              "      <td>0</td>\n",
              "      <td>0</td>\n",
              "      <td>0</td>\n",
              "    </tr>\n",
              "  </tbody>\n",
              "</table>\n",
              "<p>5 rows × 9155 columns</p>\n",
              "</div>"
            ],
            "text/plain": [
              "    w_0  w_1  w_2  w_3  w_4  ...  w_9150  w_9151  w_9152  w_9153  w_9154\n",
              "id                           ...                                        \n",
              "0     0    1    0    1    0  ...       0       0       0       0       0\n",
              "3     0    0    0    0    0  ...       0       0       0       0       0\n",
              "6     0    0    0    0    0  ...       0       0       0       0       0\n",
              "8     0    1    1    0    0  ...       0       0       0       0       0\n",
              "9     0    0    0    0    0  ...       0       0       0       0       0\n",
              "\n",
              "[5 rows x 9155 columns]"
            ]
          },
          "metadata": {
            "tags": []
          },
          "execution_count": 38
        }
      ]
    },
    {
      "cell_type": "code",
      "metadata": {
        "id": "z43TIQEgZgAc",
        "colab_type": "code",
        "colab": {
          "base_uri": "https://localhost:8080/",
          "height": 35
        },
        "outputId": "0b587d16-db4a-4a85-f949-8a2b4379a4eb"
      },
      "source": [
        "# for each tokenizer_inputs we store its word index into a new DataFrame called word2index_inputs\n",
        "word2index_inputs = tokenizer_inputs.word_index\n",
        "\n",
        "# We determine the maximul length of our dataset\n",
        "max_len_input = max(len(s) for s in test[\"sequence\"])\n",
        "print(f'The longest title contains {max_len_input} tokens')\n"
      ],
      "execution_count": null,
      "outputs": [
        {
          "output_type": "stream",
          "text": [
            "The longest title contains 22 tokens\n"
          ],
          "name": "stdout"
        }
      ]
    },
    {
      "cell_type": "code",
      "metadata": {
        "id": "v1iyddJtZjB-",
        "colab_type": "code",
        "colab": {
          "base_uri": "https://localhost:8080/",
          "height": 248
        },
        "outputId": "a25883a1-6f39-4460-c91a-9066fc4eed5b"
      },
      "source": [
        "node_subjects = data_dic[\"train\"][\"label\"]\n",
        "set(node_subjects)\n",
        "node_subjects"
      ],
      "execution_count": null,
      "outputs": [
        {
          "output_type": "execute_result",
          "data": {
            "text/plain": [
              "id\n",
              "0        1\n",
              "3        1\n",
              "6        1\n",
              "8        0\n",
              "9        0\n",
              "        ..\n",
              "25547    4\n",
              "25548    3\n",
              "25554    2\n",
              "25555    2\n",
              "25557    1\n",
              "Name: label, Length: 12779, dtype: int64"
            ]
          },
          "metadata": {
            "tags": []
          },
          "execution_count": 40
        }
      ]
    },
    {
      "cell_type": "markdown",
      "metadata": {
        "id": "4NrMlS70aMu_",
        "colab_type": "text"
      },
      "source": [
        "# Get the data ready to input our graph model"
      ]
    },
    {
      "cell_type": "code",
      "metadata": {
        "id": "ZcanDTVjZwh4",
        "colab_type": "code",
        "colab": {
          "base_uri": "https://localhost:8080/",
          "height": 195
        },
        "outputId": "fcdb9977-a316-44ed-f926-661cf6a167b8"
      },
      "source": [
        "G = sg.StellarGraph(nodes={\"paper\": node_data},\n",
        "                    edges={\"citation\" : edgelist})\n",
        "print(G.info())"
      ],
      "execution_count": null,
      "outputs": [
        {
          "output_type": "stream",
          "text": [
            "StellarGraph: Undirected multigraph\n",
            " Nodes: 25561, Edges: 73313\n",
            "\n",
            " Node types:\n",
            "  paper: [25561]\n",
            "    Features: float32 vector, length 9155\n",
            "    Edge types: paper-citation->paper\n",
            "\n",
            " Edge types:\n",
            "    paper-citation->paper: [73313]\n"
          ],
          "name": "stdout"
        }
      ]
    },
    {
      "cell_type": "markdown",
      "metadata": {
        "id": "NRj4miFVnrms",
        "colab_type": "text"
      },
      "source": [
        "# We split and transform the data"
      ]
    },
    {
      "cell_type": "code",
      "metadata": {
        "id": "gGbgAValZ2gg",
        "colab_type": "code",
        "colab": {}
      },
      "source": [
        "# We convert to numeric arrays. \n",
        "# The target variable is transformed into hot-one vectors.\n",
        "train_subjects, test_subjects = model_selection.train_test_split(node_subjects, test_size=0.2, stratify=node_subjects)\n",
        "target_encoding = preprocessing.LabelBinarizer()\n",
        "\n",
        "train_targets = target_encoding.fit_transform(train_subjects)\n",
        "test_targets = target_encoding.transform(test_subjects)"
      ],
      "execution_count": null,
      "outputs": []
    },
    {
      "cell_type": "code",
      "metadata": {
        "id": "ddaF-5BKZ4H4",
        "colab_type": "code",
        "colab": {}
      },
      "source": [
        "# We choose a batch size of 50 for out training and we will use 2 layers. The first one will have 10 nodes and the second one 5 nodes.\n",
        "batch_size = 50\n",
        "num_samples = [10, 5]\n",
        "# The graph generator \"allows to send the node features in samples subgraphs to keras\"\n",
        "generator = GraphSAGENodeGenerator(G=G, batch_size=batch_size, num_samples=num_samples, seed=2020)\n",
        "# The generator.flow function allows to \"create iterators over nodes that should be used for train, validate and evaluate the model.\"\n",
        "train_gen = generator.flow(train_subjects.index, train_targets, shuffle=True)"
      ],
      "execution_count": null,
      "outputs": []
    },
    {
      "cell_type": "code",
      "metadata": {
        "id": "RB6vMkKcZ6B3",
        "colab_type": "code",
        "colab": {
          "base_uri": "https://localhost:8080/",
          "height": 52
        },
        "outputId": "cdca46ec-7cc6-4135-b155-2348abf5b578"
      },
      "source": [
        "# We specify the hyperparameters.\n",
        "# We use 2 layers with 32 dimensional features for each layer.\n",
        "# We use a dropout of 0.05\n",
        "graphsage_model = GraphSAGE(\n",
        "    layer_sizes=[32, 32], \n",
        "    generator=generator, \n",
        "    bias=True, \n",
        "    dropout=0.05 )\n",
        "x_inp, x_out = graphsage_model.build()\n",
        "# The model can predict 5 categories of scientific research papers\n",
        "prediction = layers.Dense(units=train_targets.shape[1], activation=\"softmax\")(x_out)"
      ],
      "execution_count": null,
      "outputs": [
        {
          "output_type": "stream",
          "text": [
            "/usr/local/lib/python3.6/dist-packages/ipykernel_launcher.py:6: DeprecationWarning: The 'build' method is deprecated, use 'in_out_tensors' instead.\n",
            "  \n"
          ],
          "name": "stderr"
        }
      ]
    },
    {
      "cell_type": "code",
      "metadata": {
        "id": "0fwLo2FLZ8dc",
        "colab_type": "code",
        "colab": {}
      },
      "source": [
        "# The input of our keras model is the under the shape of a graph network\n",
        "# The output of our keras model is predictions from a softmax layer\n",
        "model = Model(inputs=x_inp, outputs=prediction)\n",
        "model.compile(\n",
        "    optimizer=optimizers.Adam(lr=0.001),\n",
        "    loss=losses.categorical_crossentropy,\n",
        "    metrics=[\"acc\"],\n",
        ")"
      ],
      "execution_count": null,
      "outputs": []
    },
    {
      "cell_type": "code",
      "metadata": {
        "id": "D6dL6JxrZ-Qx",
        "colab_type": "code",
        "colab": {}
      },
      "source": [
        "# The test gen is our validation set that allows to tune the hyperparameters\n",
        "test_gen = generator.flow(test_subjects.index, test_targets)"
      ],
      "execution_count": null,
      "outputs": []
    },
    {
      "cell_type": "code",
      "metadata": {
        "id": "K7wnT23KaAxX",
        "colab_type": "code",
        "colab": {
          "base_uri": "https://localhost:8080/",
          "height": 195
        },
        "outputId": "0451bed3-6082-4460-ae39-af3abb7f8d1f"
      },
      "source": [
        "# We train the model\n",
        "history = model.fit(\n",
        "    train_gen, \n",
        "    epochs=5, \n",
        "    validation_data=test_gen, \n",
        "    verbose=2,\n",
        "    shuffle=False\n",
        ")"
      ],
      "execution_count": null,
      "outputs": [
        {
          "output_type": "stream",
          "text": [
            "Epoch 1/5\n",
            "205/205 - 86s - loss: 0.9441 - acc: 0.7503 - val_loss: 0.7121 - val_acc: 0.8063\n",
            "Epoch 2/5\n",
            "205/205 - 86s - loss: 0.5660 - acc: 0.8513 - val_loss: 0.5926 - val_acc: 0.8200\n",
            "Epoch 3/5\n",
            "205/205 - 84s - loss: 0.3976 - acc: 0.8954 - val_loss: 0.5714 - val_acc: 0.8165\n",
            "Epoch 4/5\n",
            "205/205 - 84s - loss: 0.2900 - acc: 0.9246 - val_loss: 0.5637 - val_acc: 0.8110\n",
            "Epoch 5/5\n",
            "205/205 - 82s - loss: 0.2216 - acc: 0.9418 - val_loss: 0.6085 - val_acc: 0.7985\n"
          ],
          "name": "stdout"
        }
      ]
    },
    {
      "cell_type": "code",
      "metadata": {
        "id": "HQTpRH7QaDtN",
        "colab_type": "code",
        "colab": {
          "base_uri": "https://localhost:8080/",
          "height": 585
        },
        "outputId": "c98e60f3-df40-4c6a-d6e0-a7420d00096e"
      },
      "source": [
        "sg.utils.plot_history(history)"
      ],
      "execution_count": null,
      "outputs": [
        {
          "output_type": "display_data",
          "data": {
            "image/png": "[encoded data removed]",
            "text/plain": [
              "<Figure size 504x576 with 2 Axes>"
            ]
          },
          "metadata": {
            "tags": [],
            "needs_background": "light"
          }
        }
      ]
    },
    {
      "cell_type": "code",
      "metadata": {
        "id": "5c3rEttLglev",
        "colab_type": "code",
        "colab": {
          "base_uri": "https://localhost:8080/",
          "height": 106
        },
        "outputId": "0cf28ef7-1109-43e5-f30a-7b33939950d6"
      },
      "source": [
        "# We evaluate the best model on our test set\n",
        "test_metrics = model.evaluate(test_gen)\n",
        "print(\"\\nTest Set Metrics:\")\n",
        "for name, val in zip(model.metrics_names, test_metrics):\n",
        "    print(\"\\t{}: {:0.4f}\".format(name, val))"
      ],
      "execution_count": null,
      "outputs": [
        {
          "output_type": "stream",
          "text": [
            "52/52 [==============================] - 16s 305ms/step - loss: 0.6119 - acc: 0.7934\n",
            "\n",
            "Test Set Metrics:\n",
            "\tloss: 0.6119\n",
            "\tacc: 0.7934\n"
          ],
          "name": "stdout"
        }
      ]
    },
    {
      "cell_type": "markdown",
      "metadata": {
        "id": "dK783RhnOHrQ",
        "colab_type": "text"
      },
      "source": [
        "### We get a validation accuracy of **79.34% !** Which is better than our previous bert model!"
      ]
    },
    {
      "cell_type": "code",
      "metadata": {
        "id": "vaJNs7nSgxxe",
        "colab_type": "code",
        "colab": {}
      },
      "source": [
        "# We make predictions on a new dataset\n",
        "all_nodes = data_dic[\"test\"].index\n",
        "all_mapper = generator.flow(all_nodes)\n",
        "all_predictions = model.predict(all_mapper)"
      ],
      "execution_count": null,
      "outputs": []
    },
    {
      "cell_type": "code",
      "metadata": {
        "id": "QS-TnTYmgyYh",
        "colab_type": "code",
        "colab": {
          "base_uri": "https://localhost:8080/",
          "height": 35
        },
        "outputId": "09b8a182-db84-45f5-e203-e2d502791f7f"
      },
      "source": [
        "# As these data are under the shape of the softmax output layers, we need to inverse_transform function to get them under the shape of original categories.\n",
        "node_predictions = target_encoding.inverse_transform(all_predictions)\n",
        "node_predictions"
      ],
      "execution_count": null,
      "outputs": [
        {
          "output_type": "execute_result",
          "data": {
            "text/plain": [
              "array([0, 1, 0, ..., 2, 2, 0])"
            ]
          },
          "metadata": {
            "tags": []
          },
          "execution_count": 51
        }
      ]
    },
    {
      "cell_type": "code",
      "metadata": {
        "id": "S7RH0CKwg7O3",
        "colab_type": "code",
        "colab": {}
      },
      "source": [
        "# We download the new predictions under a csv format\n",
        "from google.colab import files\n",
        "\n",
        "submit = pd.DataFrame(data=node_predictions , index = data_dic[\"test\"].index, columns = [\"label\"])\n",
        "submit.to_csv('Graphsage_1.csv') \n",
        "files.download('Graphsage_1.csv')"
      ],
      "execution_count": null,
      "outputs": []
    },
    {
      "cell_type": "markdown",
      "metadata": {
        "id": "wCV7D7gGk1go",
        "colab_type": "text"
      },
      "source": [
        "# Graph Attention Network"
      ]
    },
    {
      "cell_type": "code",
      "metadata": {
        "id": "RztDoBtUk2ln",
        "colab_type": "code",
        "colab": {}
      },
      "source": [
        "from stellargraph.layer import GAT\n",
        "from stellargraph.mapper import FullBatchNodeGenerator"
      ],
      "execution_count": null,
      "outputs": []
    },
    {
      "cell_type": "code",
      "metadata": {
        "id": "5lfE3SR5no7f",
        "colab_type": "code",
        "colab": {}
      },
      "source": [
        "# We use the FullBatchNodeGenerator to feed the node features and the adjency matrix to our keras model.\n",
        "generator = FullBatchNodeGenerator(G, method=\"gat\")"
      ],
      "execution_count": null,
      "outputs": []
    },
    {
      "cell_type": "code",
      "metadata": {
        "id": "MkUPw2FHnw8O",
        "colab_type": "code",
        "colab": {}
      },
      "source": [
        "train_gen = generator.flow(train_subjects.index, train_targets)"
      ],
      "execution_count": null,
      "outputs": []
    },
    {
      "cell_type": "code",
      "metadata": {
        "id": "sTauhH9Un0fk",
        "colab_type": "code",
        "colab": {}
      },
      "source": [
        "# We specify our hyperparameters.\n",
        "# We use a GAT with 2 layers.\n",
        "# The first layer has 64 dimensional hidden nodes \n",
        "# the second layer has 5 class classification output.\n",
        "# We use 8 attention heads in our GAT.\n",
        "# We add dropout and attention dropout\n",
        "gat = GAT(\n",
        "    layer_sizes=[64, train_targets.shape[1]],\n",
        "    activations=[\"relu\", \"softmax\"],\n",
        "    attn_heads=8,\n",
        "    generator=generator,\n",
        "    in_dropout=0.5,\n",
        "    attn_dropout=0.5,\n",
        "    normalize=None,\n",
        ")"
      ],
      "execution_count": null,
      "outputs": []
    },
    {
      "cell_type": "code",
      "metadata": {
        "id": "UfENuW1hn3FJ",
        "colab_type": "code",
        "colab": {}
      },
      "source": [
        "# We create input and output tensor of the GAT model \n",
        "x_inp, predictions = gat.in_out_tensors()"
      ],
      "execution_count": null,
      "outputs": []
    },
    {
      "cell_type": "code",
      "metadata": {
        "id": "4kPQUwT7n-Q8",
        "colab_type": "code",
        "colab": {}
      },
      "source": [
        "# We create the keras model\n",
        "model = Model(inputs=x_inp, outputs=predictions)\n",
        "model.compile(\n",
        "    optimizer=optimizers.Adamax(lr=0.01),\n",
        "    loss=losses.categorical_crossentropy,\n",
        "    metrics=[\"acc\"],\n",
        ")"
      ],
      "execution_count": null,
      "outputs": []
    },
    {
      "cell_type": "code",
      "metadata": {
        "id": "AKrSglBloA3T",
        "colab_type": "code",
        "colab": {}
      },
      "source": [
        "# We will use test_gen to calculate our validation loss anc accuracy\n",
        "test_gen = generator.flow(test_subjects.index, test_targets)"
      ],
      "execution_count": null,
      "outputs": []
    },
    {
      "cell_type": "code",
      "metadata": {
        "id": "X5cz38L-oeA5",
        "colab_type": "code",
        "colab": {}
      },
      "source": [
        "# We create callbals for early stopping\n",
        "from tensorflow.keras.callbacks import EarlyStopping, ModelCheckpoint\n",
        "\n",
        "if not os.path.isdir(\"logs\"):\n",
        "    os.makedirs(\"logs\")\n",
        "es_callback = EarlyStopping(\n",
        "    monitor=\"val_acc\", patience=20\n",
        ")  # patience is the number of epochs to wait before early stopping in case of no further improvement\n",
        "mc_callback = ModelCheckpoint(\n",
        "    \"logs/best_model.h5\", monitor=\"val_acc\", save_best_only=True, save_weights_only=True\n",
        ")"
      ],
      "execution_count": null,
      "outputs": []
    },
    {
      "cell_type": "code",
      "metadata": {
        "id": "obt5eSuEoh6_",
        "colab_type": "code",
        "colab": {
          "base_uri": "https://localhost:8080/",
          "height": 1000
        },
        "outputId": "0bf96c60-d2f9-4d6e-ef4a-a4e006bcd3d2"
      },
      "source": [
        "# We train the model\n",
        "history = model.fit(\n",
        "    train_gen,\n",
        "    epochs=300,\n",
        "    validation_data=test_gen,\n",
        "    verbose=2,\n",
        "    shuffle=False,  # this should be False, since shuffling data means shuffling the whole graph\n",
        "    callbacks=[es_callback, mc_callback],\n",
        ")"
      ],
      "execution_count": null,
      "outputs": [
        {
          "output_type": "stream",
          "text": [
            "Epoch 1/300\n",
            "1/1 - 1s - loss: 1.6125 - acc: 0.1958 - val_loss: 1.4063 - val_acc: 0.6886\n",
            "Epoch 2/300\n",
            "1/1 - 1s - loss: 1.4098 - acc: 0.5737 - val_loss: 1.2023 - val_acc: 0.7414\n",
            "Epoch 3/300\n",
            "1/1 - 1s - loss: 1.2490 - acc: 0.6078 - val_loss: 1.0094 - val_acc: 0.7723\n",
            "Epoch 4/300\n",
            "1/1 - 1s - loss: 1.1015 - acc: 0.6442 - val_loss: 0.8540 - val_acc: 0.7919\n",
            "Epoch 5/300\n",
            "1/1 - 1s - loss: 0.9889 - acc: 0.6739 - val_loss: 0.7451 - val_acc: 0.7985\n",
            "Epoch 6/300\n",
            "1/1 - 1s - loss: 0.9137 - acc: 0.6957 - val_loss: 0.6736 - val_acc: 0.8040\n",
            "Epoch 7/300\n",
            "1/1 - 1s - loss: 0.8725 - acc: 0.7099 - val_loss: 0.6285 - val_acc: 0.8079\n",
            "Epoch 8/300\n",
            "1/1 - 1s - loss: 0.8455 - acc: 0.7095 - val_loss: 0.5971 - val_acc: 0.8091\n",
            "Epoch 9/300\n",
            "1/1 - 1s - loss: 0.8297 - acc: 0.7357 - val_loss: 0.5738 - val_acc: 0.8114\n",
            "Epoch 10/300\n",
            "1/1 - 1s - loss: 0.8458 - acc: 0.7383 - val_loss: 0.5523 - val_acc: 0.8169\n",
            "Epoch 11/300\n",
            "1/1 - 1s - loss: 0.8368 - acc: 0.7327 - val_loss: 0.5372 - val_acc: 0.8220\n",
            "Epoch 12/300\n",
            "1/1 - 1s - loss: 0.8121 - acc: 0.7449 - val_loss: 0.5276 - val_acc: 0.8232\n",
            "Epoch 13/300\n",
            "1/1 - 1s - loss: 0.8209 - acc: 0.7445 - val_loss: 0.5219 - val_acc: 0.8224\n",
            "Epoch 14/300\n",
            "1/1 - 1s - loss: 0.7915 - acc: 0.7322 - val_loss: 0.5180 - val_acc: 0.8228\n",
            "Epoch 15/300\n",
            "1/1 - 1s - loss: 0.7977 - acc: 0.7359 - val_loss: 0.5156 - val_acc: 0.8232\n",
            "Epoch 16/300\n",
            "1/1 - 1s - loss: 0.7824 - acc: 0.7350 - val_loss: 0.5134 - val_acc: 0.8236\n",
            "Epoch 17/300\n",
            "1/1 - 1s - loss: 0.7665 - acc: 0.7391 - val_loss: 0.5127 - val_acc: 0.8251\n",
            "Epoch 18/300\n",
            "1/1 - 1s - loss: 0.7613 - acc: 0.7422 - val_loss: 0.5134 - val_acc: 0.8259\n",
            "Epoch 19/300\n",
            "1/1 - 1s - loss: 0.7415 - acc: 0.7471 - val_loss: 0.5144 - val_acc: 0.8275\n",
            "Epoch 20/300\n",
            "1/1 - 1s - loss: 0.7415 - acc: 0.7461 - val_loss: 0.5154 - val_acc: 0.8279\n",
            "Epoch 21/300\n",
            "1/1 - 1s - loss: 0.7440 - acc: 0.7383 - val_loss: 0.5169 - val_acc: 0.8267\n",
            "Epoch 22/300\n",
            "1/1 - 1s - loss: 0.7246 - acc: 0.7463 - val_loss: 0.5177 - val_acc: 0.8294\n",
            "Epoch 23/300\n",
            "1/1 - 1s - loss: 0.7280 - acc: 0.7489 - val_loss: 0.5173 - val_acc: 0.8282\n",
            "Epoch 24/300\n",
            "1/1 - 1s - loss: 0.7283 - acc: 0.7432 - val_loss: 0.5163 - val_acc: 0.8275\n",
            "Epoch 25/300\n",
            "1/1 - 1s - loss: 0.7135 - acc: 0.7529 - val_loss: 0.5156 - val_acc: 0.8290\n",
            "Epoch 26/300\n",
            "1/1 - 1s - loss: 0.7186 - acc: 0.7556 - val_loss: 0.5153 - val_acc: 0.8286\n",
            "Epoch 27/300\n",
            "1/1 - 1s - loss: 0.7123 - acc: 0.7529 - val_loss: 0.5152 - val_acc: 0.8302\n",
            "Epoch 28/300\n",
            "1/1 - 1s - loss: 0.6970 - acc: 0.7545 - val_loss: 0.5152 - val_acc: 0.8302\n",
            "Epoch 29/300\n",
            "1/1 - 1s - loss: 0.6922 - acc: 0.7629 - val_loss: 0.5157 - val_acc: 0.8286\n",
            "Epoch 30/300\n",
            "1/1 - 1s - loss: 0.6955 - acc: 0.7553 - val_loss: 0.5159 - val_acc: 0.8318\n",
            "Epoch 31/300\n",
            "1/1 - 1s - loss: 0.6885 - acc: 0.7621 - val_loss: 0.5157 - val_acc: 0.8326\n",
            "Epoch 32/300\n",
            "1/1 - 1s - loss: 0.6854 - acc: 0.7587 - val_loss: 0.5144 - val_acc: 0.8326\n",
            "Epoch 33/300\n",
            "1/1 - 1s - loss: 0.6798 - acc: 0.7649 - val_loss: 0.5127 - val_acc: 0.8326\n",
            "Epoch 34/300\n",
            "1/1 - 1s - loss: 0.6843 - acc: 0.7637 - val_loss: 0.5102 - val_acc: 0.8333\n",
            "Epoch 35/300\n",
            "1/1 - 1s - loss: 0.6708 - acc: 0.7626 - val_loss: 0.5078 - val_acc: 0.8329\n",
            "Epoch 36/300\n",
            "1/1 - 1s - loss: 0.6866 - acc: 0.7550 - val_loss: 0.5056 - val_acc: 0.8314\n",
            "Epoch 37/300\n",
            "1/1 - 1s - loss: 0.6773 - acc: 0.7616 - val_loss: 0.5033 - val_acc: 0.8314\n",
            "Epoch 38/300\n",
            "1/1 - 1s - loss: 0.6616 - acc: 0.7703 - val_loss: 0.5012 - val_acc: 0.8326\n",
            "Epoch 39/300\n",
            "1/1 - 1s - loss: 0.6847 - acc: 0.7629 - val_loss: 0.4996 - val_acc: 0.8322\n",
            "Epoch 40/300\n",
            "1/1 - 1s - loss: 0.6644 - acc: 0.7630 - val_loss: 0.4984 - val_acc: 0.8326\n",
            "Epoch 41/300\n",
            "1/1 - 1s - loss: 0.6615 - acc: 0.7646 - val_loss: 0.4975 - val_acc: 0.8329\n",
            "Epoch 42/300\n",
            "1/1 - 1s - loss: 0.6624 - acc: 0.7632 - val_loss: 0.4970 - val_acc: 0.8345\n",
            "Epoch 43/300\n",
            "1/1 - 1s - loss: 0.6527 - acc: 0.7686 - val_loss: 0.4965 - val_acc: 0.8349\n",
            "Epoch 44/300\n",
            "1/1 - 1s - loss: 0.6628 - acc: 0.7658 - val_loss: 0.4956 - val_acc: 0.8345\n",
            "Epoch 45/300\n",
            "1/1 - 1s - loss: 0.6631 - acc: 0.7695 - val_loss: 0.4942 - val_acc: 0.8361\n",
            "Epoch 46/300\n",
            "1/1 - 1s - loss: 0.6572 - acc: 0.7663 - val_loss: 0.4931 - val_acc: 0.8361\n",
            "Epoch 47/300\n",
            "1/1 - 1s - loss: 0.6416 - acc: 0.7781 - val_loss: 0.4919 - val_acc: 0.8369\n",
            "Epoch 48/300\n",
            "1/1 - 1s - loss: 0.6400 - acc: 0.7718 - val_loss: 0.4904 - val_acc: 0.8365\n",
            "Epoch 49/300\n",
            "1/1 - 1s - loss: 0.6529 - acc: 0.7652 - val_loss: 0.4892 - val_acc: 0.8361\n",
            "Epoch 50/300\n",
            "1/1 - 1s - loss: 0.6463 - acc: 0.7706 - val_loss: 0.4883 - val_acc: 0.8365\n",
            "Epoch 51/300\n",
            "1/1 - 1s - loss: 0.6491 - acc: 0.7639 - val_loss: 0.4876 - val_acc: 0.8353\n",
            "Epoch 52/300\n",
            "1/1 - 1s - loss: 0.6416 - acc: 0.7703 - val_loss: 0.4874 - val_acc: 0.8345\n",
            "Epoch 53/300\n",
            "1/1 - 1s - loss: 0.6287 - acc: 0.7702 - val_loss: 0.4871 - val_acc: 0.8345\n",
            "Epoch 54/300\n",
            "1/1 - 1s - loss: 0.6253 - acc: 0.7741 - val_loss: 0.4867 - val_acc: 0.8329\n",
            "Epoch 55/300\n",
            "1/1 - 1s - loss: 0.6169 - acc: 0.7802 - val_loss: 0.4863 - val_acc: 0.8345\n",
            "Epoch 56/300\n",
            "1/1 - 1s - loss: 0.6257 - acc: 0.7775 - val_loss: 0.4864 - val_acc: 0.8341\n",
            "Epoch 57/300\n",
            "1/1 - 1s - loss: 0.6199 - acc: 0.7756 - val_loss: 0.4862 - val_acc: 0.8349\n",
            "Epoch 58/300\n",
            "1/1 - 1s - loss: 0.6165 - acc: 0.7717 - val_loss: 0.4857 - val_acc: 0.8341\n",
            "Epoch 59/300\n",
            "1/1 - 1s - loss: 0.6278 - acc: 0.7751 - val_loss: 0.4853 - val_acc: 0.8337\n",
            "Epoch 60/300\n",
            "1/1 - 1s - loss: 0.6171 - acc: 0.7787 - val_loss: 0.4849 - val_acc: 0.8333\n",
            "Epoch 61/300\n",
            "1/1 - 1s - loss: 0.6112 - acc: 0.7779 - val_loss: 0.4847 - val_acc: 0.8322\n",
            "Epoch 62/300\n",
            "1/1 - 1s - loss: 0.6048 - acc: 0.7817 - val_loss: 0.4849 - val_acc: 0.8318\n",
            "Epoch 63/300\n",
            "1/1 - 1s - loss: 0.6066 - acc: 0.7866 - val_loss: 0.4849 - val_acc: 0.8322\n",
            "Epoch 64/300\n",
            "1/1 - 1s - loss: 0.6057 - acc: 0.7781 - val_loss: 0.4854 - val_acc: 0.8310\n",
            "Epoch 65/300\n",
            "1/1 - 1s - loss: 0.6117 - acc: 0.7723 - val_loss: 0.4856 - val_acc: 0.8306\n",
            "Epoch 66/300\n",
            "1/1 - 1s - loss: 0.6116 - acc: 0.7819 - val_loss: 0.4859 - val_acc: 0.8314\n",
            "Epoch 67/300\n",
            "1/1 - 1s - loss: 0.6063 - acc: 0.7790 - val_loss: 0.4855 - val_acc: 0.8314\n"
          ],
          "name": "stdout"
        }
      ]
    },
    {
      "cell_type": "code",
      "metadata": {
        "id": "QuRsdgnppe9Y",
        "colab_type": "code",
        "colab": {
          "base_uri": "https://localhost:8080/",
          "height": 585
        },
        "outputId": "ceb71dc1-7483-4236-b2c1-9f1c876a27e1"
      },
      "source": [
        "sg.utils.plot_history(history)\n"
      ],
      "execution_count": null,
      "outputs": [
        {
          "output_type": "display_data",
          "data": {
            "image/png": "[encoded data removed]",
            "text/plain": [
              "<Figure size 504x576 with 2 Axes>"
            ]
          },
          "metadata": {
            "tags": [],
            "needs_background": "light"
          }
        }
      ]
    },
    {
      "cell_type": "code",
      "metadata": {
        "id": "7RVSRoZop-po",
        "colab_type": "code",
        "colab": {
          "base_uri": "https://localhost:8080/",
          "height": 106
        },
        "outputId": "86b9b748-1eaf-4c4f-ac09-107dc44b1f5a"
      },
      "source": [
        "# We evaluate our best model on our test set\n",
        "test_metrics = model.evaluate(test_gen)\n",
        "print(\"\\nTest Set Metrics:\")\n",
        "for name, val in zip(model.metrics_names, test_metrics):\n",
        "    print(\"\\t{}: {:0.4f}\".format(name, val))"
      ],
      "execution_count": null,
      "outputs": [
        {
          "output_type": "stream",
          "text": [
            "1/1 [==============================] - 0s 2ms/step - loss: 0.4855 - acc: 0.8314\n",
            "\n",
            "Test Set Metrics:\n",
            "\tloss: 0.4855\n",
            "\tacc: 0.8314\n"
          ],
          "name": "stdout"
        }
      ]
    },
    {
      "cell_type": "markdown",
      "metadata": {
        "id": "tl4KWiplQn8g",
        "colab_type": "text"
      },
      "source": [
        "### We get a test accuracy of **83.14% !** Which is better than our previous graphsage model!"
      ]
    },
    {
      "cell_type": "code",
      "metadata": {
        "id": "cKMkK_tqpwfY",
        "colab_type": "code",
        "colab": {}
      },
      "source": [
        "# We make predictions on a new dataset\n",
        "all_nodes = data_dic[\"test\"].index\n",
        "all_mapper = generator.flow(all_nodes)\n",
        "all_predictions = model.predict(all_mapper)"
      ],
      "execution_count": null,
      "outputs": []
    },
    {
      "cell_type": "code",
      "metadata": {
        "id": "lv4HnYDQqETi",
        "colab_type": "code",
        "colab": {
          "base_uri": "https://localhost:8080/",
          "height": 35
        },
        "outputId": "6d022a0f-be42-457a-af82-c004c1fc8a74"
      },
      "source": [
        "# As these data are under the shape of the softmax output layers, we need to inverse_transform function to get them under the shape of original categories.\n",
        "node_predictions = target_encoding.inverse_transform(all_predictions.squeeze())\n",
        "node_predictions"
      ],
      "execution_count": null,
      "outputs": [
        {
          "output_type": "execute_result",
          "data": {
            "text/plain": [
              "array([0, 1, 0, ..., 0, 2, 1])"
            ]
          },
          "metadata": {
            "tags": []
          },
          "execution_count": 67
        }
      ]
    },
    {
      "cell_type": "code",
      "metadata": {
        "id": "KXusEUOdqI9s",
        "colab_type": "code",
        "colab": {}
      },
      "source": [
        "#We download the new predictions under a csv format\n",
        "from google.colab import files\n",
        "\n",
        "submit = pd.DataFrame(data=node_predictions , index = data_dic[\"test\"].index, columns = [\"label\"])\n",
        "submit.to_csv('GAT_4.csv') \n",
        "files.download('GAT_4.csv')"
      ],
      "execution_count": null,
      "outputs": []
    },
    {
      "cell_type": "markdown",
      "metadata": {
        "id": "Uhy811Wm2gBN",
        "colab_type": "text"
      },
      "source": [
        "# Graph Convolutional Network"
      ]
    },
    {
      "cell_type": "code",
      "metadata": {
        "id": "kodlyRW22hGn",
        "colab_type": "code",
        "colab": {}
      },
      "source": [
        "from stellargraph.layer import GCN"
      ],
      "execution_count": null,
      "outputs": []
    },
    {
      "cell_type": "code",
      "metadata": {
        "id": "pjNjqp6R2kka",
        "colab_type": "code",
        "colab": {
          "base_uri": "https://localhost:8080/",
          "height": 35
        },
        "outputId": "409346fa-36f6-4893-a844-88f7b3358184"
      },
      "source": [
        "# We use the FullBatchNodeGenerator function using the gcn method to put our data under the correct shape for a GCN model.\n",
        "generator = FullBatchNodeGenerator(G, method=\"gcn\")"
      ],
      "execution_count": null,
      "outputs": [
        {
          "output_type": "stream",
          "text": [
            "Using GCN (local pooling) filters...\n"
          ],
          "name": "stdout"
        }
      ]
    },
    {
      "cell_type": "code",
      "metadata": {
        "id": "QVxCrHNS2mK1",
        "colab_type": "code",
        "colab": {}
      },
      "source": [
        "# We create an object forh the generator.flow function with the set of nodes and the true labels that will be used to train the model.\n",
        "train_gen = generator.flow(train_subjects.index, train_targets)"
      ],
      "execution_count": null,
      "outputs": []
    },
    {
      "cell_type": "code",
      "metadata": {
        "id": "arsstQj_2o0T",
        "colab_type": "code",
        "colab": {}
      },
      "source": [
        "# We create a 2 layers GCN with 16 unites per layer.\n",
        "# We will use the relu activation function for the 2 layers.\n",
        "# We use a dropout of 0.5\n",
        "gcn = GCN(\n",
        "    layer_sizes=[16, 16], activations=[\"relu\", \"relu\"], generator=generator, dropout=0.5\n",
        ")"
      ],
      "execution_count": null,
      "outputs": []
    },
    {
      "cell_type": "code",
      "metadata": {
        "id": "zixOaf-K2r-5",
        "colab_type": "code",
        "colab": {}
      },
      "source": [
        "# We create the input and output tensors that our model will use for its predictions.\n",
        "x_inp, x_out = gcn.in_out_tensors()"
      ],
      "execution_count": null,
      "outputs": []
    },
    {
      "cell_type": "code",
      "metadata": {
        "id": "BLJMe-5Q2uxK",
        "colab_type": "code",
        "colab": {}
      },
      "source": [
        "# The output layer will be a softmax \n",
        "predictions = layers.Dense(units=train_targets.shape[1], activation=\"softmax\")(x_out)"
      ],
      "execution_count": null,
      "outputs": []
    },
    {
      "cell_type": "code",
      "metadata": {
        "id": "vux814GI2xNI",
        "colab_type": "code",
        "colab": {}
      },
      "source": [
        "# We create the keras model\n",
        "model = Model(inputs=x_inp, outputs=predictions)\n",
        "model.compile(\n",
        "    optimizer=optimizers.Adamax(lr=0.01),\n",
        "    loss=losses.categorical_crossentropy,\n",
        "    metrics=[\"acc\"],\n",
        ")"
      ],
      "execution_count": null,
      "outputs": []
    },
    {
      "cell_type": "code",
      "metadata": {
        "id": "8AIQ2C4t22IN",
        "colab_type": "code",
        "colab": {}
      },
      "source": [
        "# We will use test_gen to calculate our validation loss anc accuracy\n",
        "test_gen = generator.flow(test_subjects.index, test_targets)"
      ],
      "execution_count": null,
      "outputs": []
    },
    {
      "cell_type": "code",
      "metadata": {
        "id": "H3TYUvNy25UM",
        "colab_type": "code",
        "colab": {}
      },
      "source": [
        "# We will use a callback if validation accuracy stops improving\n",
        "from tensorflow.keras.callbacks import EarlyStopping\n",
        "\n",
        "es_callback = EarlyStopping(monitor=\"val_acc\", patience=20, restore_best_weights=True)"
      ],
      "execution_count": null,
      "outputs": []
    },
    {
      "cell_type": "code",
      "metadata": {
        "id": "1TjZxQMy27tj",
        "colab_type": "code",
        "colab": {
          "base_uri": "https://localhost:8080/",
          "height": 1000
        },
        "outputId": "34c23b01-7a49-45b7-f86a-5fa041c9a3df"
      },
      "source": [
        "# We train our model\n",
        "history = model.fit(\n",
        "    train_gen,\n",
        "    epochs=300,\n",
        "    validation_data=test_gen,\n",
        "    verbose=2,\n",
        "    shuffle=False, \n",
        "    callbacks=[es_callback],\n",
        ")"
      ],
      "execution_count": null,
      "outputs": [
        {
          "output_type": "stream",
          "text": [
            "Epoch 1/300\n",
            "1/1 - 1s - loss: 1.6084 - acc: 0.1711 - val_loss: 1.5891 - val_acc: 0.4797\n",
            "Epoch 2/300\n",
            "1/1 - 1s - loss: 1.5869 - acc: 0.4306 - val_loss: 1.5622 - val_acc: 0.5305\n",
            "Epoch 3/300\n",
            "1/1 - 1s - loss: 1.5612 - acc: 0.4699 - val_loss: 1.5292 - val_acc: 0.5430\n",
            "Epoch 4/300\n",
            "1/1 - 1s - loss: 1.5285 - acc: 0.4825 - val_loss: 1.4939 - val_acc: 0.5567\n",
            "Epoch 5/300\n",
            "1/1 - 1s - loss: 1.4963 - acc: 0.4940 - val_loss: 1.4573 - val_acc: 0.5634\n",
            "Epoch 6/300\n",
            "1/1 - 1s - loss: 1.4625 - acc: 0.5005 - val_loss: 1.4199 - val_acc: 0.5736\n",
            "Epoch 7/300\n",
            "1/1 - 1s - loss: 1.4266 - acc: 0.5180 - val_loss: 1.3811 - val_acc: 0.5959\n",
            "Epoch 8/300\n",
            "1/1 - 1s - loss: 1.3930 - acc: 0.5325 - val_loss: 1.3408 - val_acc: 0.6205\n",
            "Epoch 9/300\n",
            "1/1 - 1s - loss: 1.3537 - acc: 0.5526 - val_loss: 1.2997 - val_acc: 0.6498\n",
            "Epoch 10/300\n",
            "1/1 - 1s - loss: 1.3186 - acc: 0.5773 - val_loss: 1.2580 - val_acc: 0.6733\n",
            "Epoch 11/300\n",
            "1/1 - 1s - loss: 1.2828 - acc: 0.6070 - val_loss: 1.2157 - val_acc: 0.6941\n",
            "Epoch 12/300\n",
            "1/1 - 1s - loss: 1.2434 - acc: 0.6211 - val_loss: 1.1729 - val_acc: 0.7070\n",
            "Epoch 13/300\n",
            "1/1 - 1s - loss: 1.2039 - acc: 0.6339 - val_loss: 1.1294 - val_acc: 0.7222\n",
            "Epoch 14/300\n",
            "1/1 - 1s - loss: 1.1660 - acc: 0.6547 - val_loss: 1.0855 - val_acc: 0.7347\n",
            "Epoch 15/300\n",
            "1/1 - 1s - loss: 1.1294 - acc: 0.6623 - val_loss: 1.0414 - val_acc: 0.7508\n",
            "Epoch 16/300\n",
            "1/1 - 1s - loss: 1.0936 - acc: 0.6743 - val_loss: 0.9974 - val_acc: 0.7613\n",
            "Epoch 17/300\n",
            "1/1 - 1s - loss: 1.0582 - acc: 0.6921 - val_loss: 0.9542 - val_acc: 0.7696\n",
            "Epoch 18/300\n",
            "1/1 - 1s - loss: 1.0185 - acc: 0.6998 - val_loss: 0.9120 - val_acc: 0.7801\n",
            "Epoch 19/300\n",
            "1/1 - 1s - loss: 0.9759 - acc: 0.7163 - val_loss: 0.8713 - val_acc: 0.7876\n",
            "Epoch 20/300\n",
            "1/1 - 1s - loss: 0.9444 - acc: 0.7212 - val_loss: 0.8322 - val_acc: 0.7926\n",
            "Epoch 21/300\n",
            "1/1 - 1s - loss: 0.9236 - acc: 0.7292 - val_loss: 0.7954 - val_acc: 0.8032\n",
            "Epoch 22/300\n",
            "1/1 - 1s - loss: 0.8834 - acc: 0.7361 - val_loss: 0.7610 - val_acc: 0.8067\n",
            "Epoch 23/300\n",
            "1/1 - 1s - loss: 0.8565 - acc: 0.7389 - val_loss: 0.7291 - val_acc: 0.8114\n",
            "Epoch 24/300\n",
            "1/1 - 1s - loss: 0.8260 - acc: 0.7477 - val_loss: 0.7001 - val_acc: 0.8146\n",
            "Epoch 25/300\n",
            "1/1 - 1s - loss: 0.8143 - acc: 0.7527 - val_loss: 0.6738 - val_acc: 0.8149\n",
            "Epoch 26/300\n",
            "1/1 - 1s - loss: 0.7854 - acc: 0.7571 - val_loss: 0.6500 - val_acc: 0.8192\n",
            "Epoch 27/300\n",
            "1/1 - 1s - loss: 0.7631 - acc: 0.7648 - val_loss: 0.6287 - val_acc: 0.8196\n",
            "Epoch 28/300\n",
            "1/1 - 1s - loss: 0.7513 - acc: 0.7592 - val_loss: 0.6098 - val_acc: 0.8192\n",
            "Epoch 29/300\n",
            "1/1 - 1s - loss: 0.7330 - acc: 0.7654 - val_loss: 0.5930 - val_acc: 0.8208\n",
            "Epoch 30/300\n",
            "1/1 - 1s - loss: 0.7130 - acc: 0.7725 - val_loss: 0.5782 - val_acc: 0.8220\n",
            "Epoch 31/300\n",
            "1/1 - 1s - loss: 0.7037 - acc: 0.7667 - val_loss: 0.5655 - val_acc: 0.8228\n",
            "Epoch 32/300\n",
            "1/1 - 1s - loss: 0.6889 - acc: 0.7721 - val_loss: 0.5547 - val_acc: 0.8224\n",
            "Epoch 33/300\n",
            "1/1 - 1s - loss: 0.6804 - acc: 0.7710 - val_loss: 0.5457 - val_acc: 0.8236\n",
            "Epoch 34/300\n",
            "1/1 - 1s - loss: 0.6750 - acc: 0.7740 - val_loss: 0.5383 - val_acc: 0.8243\n",
            "Epoch 35/300\n",
            "1/1 - 1s - loss: 0.6732 - acc: 0.7747 - val_loss: 0.5320 - val_acc: 0.8247\n",
            "Epoch 36/300\n",
            "1/1 - 1s - loss: 0.6575 - acc: 0.7750 - val_loss: 0.5267 - val_acc: 0.8259\n",
            "Epoch 37/300\n",
            "1/1 - 1s - loss: 0.6561 - acc: 0.7737 - val_loss: 0.5221 - val_acc: 0.8259\n",
            "Epoch 38/300\n",
            "1/1 - 1s - loss: 0.6437 - acc: 0.7818 - val_loss: 0.5182 - val_acc: 0.8267\n",
            "Epoch 39/300\n",
            "1/1 - 1s - loss: 0.6391 - acc: 0.7783 - val_loss: 0.5149 - val_acc: 0.8271\n",
            "Epoch 40/300\n",
            "1/1 - 1s - loss: 0.6444 - acc: 0.7825 - val_loss: 0.5120 - val_acc: 0.8263\n",
            "Epoch 41/300\n",
            "1/1 - 1s - loss: 0.6264 - acc: 0.7903 - val_loss: 0.5097 - val_acc: 0.8259\n",
            "Epoch 42/300\n",
            "1/1 - 1s - loss: 0.6296 - acc: 0.7863 - val_loss: 0.5078 - val_acc: 0.8263\n",
            "Epoch 43/300\n",
            "1/1 - 1s - loss: 0.6182 - acc: 0.7884 - val_loss: 0.5065 - val_acc: 0.8259\n",
            "Epoch 44/300\n",
            "1/1 - 1s - loss: 0.6230 - acc: 0.7898 - val_loss: 0.5053 - val_acc: 0.8255\n",
            "Epoch 45/300\n",
            "1/1 - 1s - loss: 0.6132 - acc: 0.7911 - val_loss: 0.5042 - val_acc: 0.8255\n",
            "Epoch 46/300\n",
            "1/1 - 1s - loss: 0.6207 - acc: 0.7883 - val_loss: 0.5034 - val_acc: 0.8271\n",
            "Epoch 47/300\n",
            "1/1 - 1s - loss: 0.6090 - acc: 0.7929 - val_loss: 0.5029 - val_acc: 0.8282\n",
            "Epoch 48/300\n",
            "1/1 - 1s - loss: 0.5876 - acc: 0.7999 - val_loss: 0.5023 - val_acc: 0.8282\n",
            "Epoch 49/300\n",
            "1/1 - 1s - loss: 0.6118 - acc: 0.7941 - val_loss: 0.5019 - val_acc: 0.8294\n",
            "Epoch 50/300\n",
            "1/1 - 1s - loss: 0.5824 - acc: 0.8000 - val_loss: 0.5012 - val_acc: 0.8294\n",
            "Epoch 51/300\n",
            "1/1 - 1s - loss: 0.5815 - acc: 0.8027 - val_loss: 0.5004 - val_acc: 0.8302\n",
            "Epoch 52/300\n",
            "1/1 - 1s - loss: 0.5899 - acc: 0.8022 - val_loss: 0.4995 - val_acc: 0.8306\n",
            "Epoch 53/300\n",
            "1/1 - 1s - loss: 0.5874 - acc: 0.8018 - val_loss: 0.4987 - val_acc: 0.8306\n",
            "Epoch 54/300\n",
            "1/1 - 1s - loss: 0.5683 - acc: 0.8076 - val_loss: 0.4980 - val_acc: 0.8298\n",
            "Epoch 55/300\n",
            "1/1 - 1s - loss: 0.5712 - acc: 0.8046 - val_loss: 0.4971 - val_acc: 0.8314\n",
            "Epoch 56/300\n",
            "1/1 - 1s - loss: 0.5684 - acc: 0.8082 - val_loss: 0.4965 - val_acc: 0.8302\n",
            "Epoch 57/300\n",
            "1/1 - 1s - loss: 0.5618 - acc: 0.8073 - val_loss: 0.4958 - val_acc: 0.8306\n",
            "Epoch 58/300\n",
            "1/1 - 1s - loss: 0.5668 - acc: 0.8074 - val_loss: 0.4951 - val_acc: 0.8302\n",
            "Epoch 59/300\n",
            "1/1 - 1s - loss: 0.5544 - acc: 0.8143 - val_loss: 0.4944 - val_acc: 0.8298\n",
            "Epoch 60/300\n",
            "1/1 - 1s - loss: 0.5653 - acc: 0.8069 - val_loss: 0.4937 - val_acc: 0.8310\n",
            "Epoch 61/300\n",
            "1/1 - 1s - loss: 0.5527 - acc: 0.8093 - val_loss: 0.4929 - val_acc: 0.8314\n",
            "Epoch 62/300\n",
            "1/1 - 1s - loss: 0.5628 - acc: 0.8094 - val_loss: 0.4921 - val_acc: 0.8322\n",
            "Epoch 63/300\n",
            "1/1 - 1s - loss: 0.5491 - acc: 0.8150 - val_loss: 0.4913 - val_acc: 0.8310\n",
            "Epoch 64/300\n",
            "1/1 - 1s - loss: 0.5518 - acc: 0.8100 - val_loss: 0.4905 - val_acc: 0.8314\n",
            "Epoch 65/300\n",
            "1/1 - 1s - loss: 0.5424 - acc: 0.8171 - val_loss: 0.4899 - val_acc: 0.8310\n",
            "Epoch 66/300\n",
            "1/1 - 1s - loss: 0.5387 - acc: 0.8128 - val_loss: 0.4892 - val_acc: 0.8314\n",
            "Epoch 67/300\n",
            "1/1 - 1s - loss: 0.5524 - acc: 0.8146 - val_loss: 0.4883 - val_acc: 0.8322\n",
            "Epoch 68/300\n",
            "1/1 - 1s - loss: 0.5397 - acc: 0.8170 - val_loss: 0.4875 - val_acc: 0.8329\n",
            "Epoch 69/300\n",
            "1/1 - 1s - loss: 0.5466 - acc: 0.8122 - val_loss: 0.4868 - val_acc: 0.8318\n",
            "Epoch 70/300\n",
            "1/1 - 1s - loss: 0.5394 - acc: 0.8186 - val_loss: 0.4861 - val_acc: 0.8314\n",
            "Epoch 71/300\n",
            "1/1 - 1s - loss: 0.5320 - acc: 0.8162 - val_loss: 0.4854 - val_acc: 0.8310\n",
            "Epoch 72/300\n",
            "1/1 - 1s - loss: 0.5406 - acc: 0.8099 - val_loss: 0.4848 - val_acc: 0.8314\n",
            "Epoch 73/300\n",
            "1/1 - 1s - loss: 0.5225 - acc: 0.8211 - val_loss: 0.4842 - val_acc: 0.8326\n",
            "Epoch 74/300\n",
            "1/1 - 1s - loss: 0.5288 - acc: 0.8191 - val_loss: 0.4836 - val_acc: 0.8326\n",
            "Epoch 75/300\n",
            "1/1 - 1s - loss: 0.5204 - acc: 0.8219 - val_loss: 0.4831 - val_acc: 0.8326\n",
            "Epoch 76/300\n",
            "1/1 - 1s - loss: 0.5193 - acc: 0.8182 - val_loss: 0.4828 - val_acc: 0.8333\n",
            "Epoch 77/300\n",
            "1/1 - 1s - loss: 0.5202 - acc: 0.8222 - val_loss: 0.4826 - val_acc: 0.8333\n",
            "Epoch 78/300\n",
            "1/1 - 1s - loss: 0.5197 - acc: 0.8204 - val_loss: 0.4825 - val_acc: 0.8333\n",
            "Epoch 79/300\n",
            "1/1 - 1s - loss: 0.5130 - acc: 0.8241 - val_loss: 0.4823 - val_acc: 0.8337\n",
            "Epoch 80/300\n",
            "1/1 - 1s - loss: 0.5175 - acc: 0.8221 - val_loss: 0.4822 - val_acc: 0.8345\n",
            "Epoch 81/300\n",
            "1/1 - 1s - loss: 0.5220 - acc: 0.8227 - val_loss: 0.4821 - val_acc: 0.8337\n",
            "Epoch 82/300\n",
            "1/1 - 1s - loss: 0.5217 - acc: 0.8214 - val_loss: 0.4818 - val_acc: 0.8333\n",
            "Epoch 83/300\n",
            "1/1 - 1s - loss: 0.5069 - acc: 0.8253 - val_loss: 0.4814 - val_acc: 0.8333\n",
            "Epoch 84/300\n",
            "1/1 - 1s - loss: 0.5067 - acc: 0.8260 - val_loss: 0.4811 - val_acc: 0.8329\n",
            "Epoch 85/300\n",
            "1/1 - 1s - loss: 0.5078 - acc: 0.8244 - val_loss: 0.4808 - val_acc: 0.8333\n",
            "Epoch 86/300\n",
            "1/1 - 1s - loss: 0.4999 - acc: 0.8279 - val_loss: 0.4805 - val_acc: 0.8345\n",
            "Epoch 87/300\n",
            "1/1 - 1s - loss: 0.5060 - acc: 0.8251 - val_loss: 0.4800 - val_acc: 0.8357\n",
            "Epoch 88/300\n",
            "1/1 - 1s - loss: 0.5053 - acc: 0.8229 - val_loss: 0.4797 - val_acc: 0.8357\n",
            "Epoch 89/300\n",
            "1/1 - 1s - loss: 0.5079 - acc: 0.8222 - val_loss: 0.4794 - val_acc: 0.8361\n",
            "Epoch 90/300\n",
            "1/1 - 1s - loss: 0.4969 - acc: 0.8270 - val_loss: 0.4793 - val_acc: 0.8369\n",
            "Epoch 91/300\n",
            "1/1 - 1s - loss: 0.4967 - acc: 0.8300 - val_loss: 0.4791 - val_acc: 0.8365\n",
            "Epoch 92/300\n",
            "1/1 - 1s - loss: 0.4971 - acc: 0.8267 - val_loss: 0.4791 - val_acc: 0.8361\n",
            "Epoch 93/300\n",
            "1/1 - 1s - loss: 0.4925 - acc: 0.8287 - val_loss: 0.4791 - val_acc: 0.8361\n",
            "Epoch 94/300\n",
            "1/1 - 1s - loss: 0.5113 - acc: 0.8263 - val_loss: 0.4790 - val_acc: 0.8357\n",
            "Epoch 95/300\n",
            "1/1 - 1s - loss: 0.4913 - acc: 0.8315 - val_loss: 0.4789 - val_acc: 0.8357\n",
            "Epoch 96/300\n",
            "1/1 - 1s - loss: 0.4864 - acc: 0.8315 - val_loss: 0.4786 - val_acc: 0.8369\n",
            "Epoch 97/300\n",
            "1/1 - 1s - loss: 0.4863 - acc: 0.8318 - val_loss: 0.4783 - val_acc: 0.8380\n",
            "Epoch 98/300\n",
            "1/1 - 1s - loss: 0.4976 - acc: 0.8275 - val_loss: 0.4782 - val_acc: 0.8365\n",
            "Epoch 99/300\n",
            "1/1 - 1s - loss: 0.4897 - acc: 0.8320 - val_loss: 0.4780 - val_acc: 0.8369\n",
            "Epoch 100/300\n",
            "1/1 - 1s - loss: 0.4863 - acc: 0.8306 - val_loss: 0.4781 - val_acc: 0.8365\n",
            "Epoch 101/300\n",
            "1/1 - 1s - loss: 0.4816 - acc: 0.8328 - val_loss: 0.4783 - val_acc: 0.8357\n",
            "Epoch 102/300\n",
            "1/1 - 1s - loss: 0.4745 - acc: 0.8381 - val_loss: 0.4787 - val_acc: 0.8349\n",
            "Epoch 103/300\n",
            "1/1 - 1s - loss: 0.4841 - acc: 0.8311 - val_loss: 0.4791 - val_acc: 0.8357\n",
            "Epoch 104/300\n",
            "1/1 - 1s - loss: 0.4823 - acc: 0.8315 - val_loss: 0.4794 - val_acc: 0.8357\n",
            "Epoch 105/300\n",
            "1/1 - 1s - loss: 0.4811 - acc: 0.8328 - val_loss: 0.4795 - val_acc: 0.8349\n",
            "Epoch 106/300\n",
            "1/1 - 1s - loss: 0.4828 - acc: 0.8343 - val_loss: 0.4797 - val_acc: 0.8349\n",
            "Epoch 107/300\n",
            "1/1 - 1s - loss: 0.4813 - acc: 0.8319 - val_loss: 0.4795 - val_acc: 0.8353\n",
            "Epoch 108/300\n",
            "1/1 - 1s - loss: 0.4699 - acc: 0.8346 - val_loss: 0.4792 - val_acc: 0.8357\n",
            "Epoch 109/300\n",
            "1/1 - 1s - loss: 0.4793 - acc: 0.8345 - val_loss: 0.4789 - val_acc: 0.8357\n",
            "Epoch 110/300\n",
            "1/1 - 1s - loss: 0.4712 - acc: 0.8374 - val_loss: 0.4786 - val_acc: 0.8369\n",
            "Epoch 111/300\n",
            "1/1 - 1s - loss: 0.4764 - acc: 0.8344 - val_loss: 0.4784 - val_acc: 0.8369\n",
            "Epoch 112/300\n",
            "1/1 - 1s - loss: 0.4672 - acc: 0.8346 - val_loss: 0.4783 - val_acc: 0.8361\n",
            "Epoch 113/300\n",
            "1/1 - 1s - loss: 0.4762 - acc: 0.8315 - val_loss: 0.4783 - val_acc: 0.8357\n",
            "Epoch 114/300\n",
            "1/1 - 1s - loss: 0.4646 - acc: 0.8396 - val_loss: 0.4784 - val_acc: 0.8361\n",
            "Epoch 115/300\n",
            "1/1 - 1s - loss: 0.4762 - acc: 0.8357 - val_loss: 0.4786 - val_acc: 0.8372\n",
            "Epoch 116/300\n",
            "1/1 - 1s - loss: 0.4746 - acc: 0.8332 - val_loss: 0.4787 - val_acc: 0.8369\n",
            "Epoch 117/300\n",
            "1/1 - 1s - loss: 0.4739 - acc: 0.8316 - val_loss: 0.4788 - val_acc: 0.8369\n"
          ],
          "name": "stdout"
        }
      ]
    },
    {
      "cell_type": "code",
      "metadata": {
        "id": "CNgS2hzk3Qzm",
        "colab_type": "code",
        "colab": {
          "base_uri": "https://localhost:8080/",
          "height": 106
        },
        "outputId": "d749f06c-70fa-4ef4-956e-25c26ddbff52"
      },
      "source": [
        "# We evaluate our best model on our test set\n",
        "test_metrics = model.evaluate(test_gen)\n",
        "print(\"\\nTest Set Metrics:\")\n",
        "for name, val in zip(model.metrics_names, test_metrics):\n",
        "    print(\"\\t{}: {:0.4f}\".format(name, val))"
      ],
      "execution_count": null,
      "outputs": [
        {
          "output_type": "stream",
          "text": [
            "1/1 [==============================] - 0s 2ms/step - loss: 0.4783 - acc: 0.8380\n",
            "\n",
            "Test Set Metrics:\n",
            "\tloss: 0.4783\n",
            "\tacc: 0.8380\n"
          ],
          "name": "stdout"
        }
      ]
    },
    {
      "cell_type": "markdown",
      "metadata": {
        "id": "V8rt0eckSyQP",
        "colab_type": "text"
      },
      "source": [
        "### With our GCN model we get a **83.80%** accuracy on the test set! It's performance our a little bit higher than the GAT model and it is now our best model for prediction of labels of scientific research paper."
      ]
    },
    {
      "cell_type": "code",
      "metadata": {
        "id": "fW4l2EEV3P2X",
        "colab_type": "code",
        "colab": {}
      },
      "source": [
        "# We make predictions on a new dataset\n",
        "all_nodes = data_dic[\"test\"].index\n",
        "all_mapper = generator.flow(all_nodes)\n",
        "all_predictions = model.predict(all_mapper)"
      ],
      "execution_count": null,
      "outputs": []
    },
    {
      "cell_type": "code",
      "metadata": {
        "id": "0HbVk-Sk3aaH",
        "colab_type": "code",
        "colab": {
          "base_uri": "https://localhost:8080/",
          "height": 35
        },
        "outputId": "6f5bffb2-b577-433f-fef5-d3063ef660a4"
      },
      "source": [
        "# As these data are under the shape of the softmax output layers, we need to inverse_transform function to get them under the shape of original categories.\n",
        "node_predictions = target_encoding.inverse_transform(all_predictions.squeeze())\n",
        "node_predictions"
      ],
      "execution_count": null,
      "outputs": [
        {
          "output_type": "execute_result",
          "data": {
            "text/plain": [
              "array([0, 1, 0, ..., 2, 2, 1])"
            ]
          },
          "metadata": {
            "tags": []
          },
          "execution_count": 82
        }
      ]
    },
    {
      "cell_type": "code",
      "metadata": {
        "id": "ioIfiqHS3a-I",
        "colab_type": "code",
        "colab": {}
      },
      "source": [
        "#We download the new predictions under a csv format\n",
        "from google.colab import files\n",
        "\n",
        "submit = pd.DataFrame(data=node_predictions , index = data_dic[\"test\"].index, columns = [\"label\"])\n",
        "submit.to_csv('GCN_5.csv') \n",
        "files.download('GCN_5.csv')"
      ],
      "execution_count": null,
      "outputs": []
    }
  ]
}